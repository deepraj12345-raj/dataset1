{
 "cells": [
  {
   "cell_type": "markdown",
   "id": "dc41c301",
   "metadata": {},
   "source": [
    "This dataset is based on Amazon branded/Amazon manufactured products only, \n",
    "and Customer satisfaction with Amazon products seem to be the main focus here.\n",
    "\n",
    "Potential suggestion for product reviews:\n",
    "Product X is highly rated on the market, it seems most people like its lightweight \n",
    "sleek design and fast speeds. Most products that were associated with negative reviews \n",
    "seemed to indicate that they were too heavy and they \n",
    "couldn't fit them in the bags. We suggest that next gen models for e-readers are \n",
    "lightweight and portable, based on this data we've looked at.\n",
    "\n",
    "Assumptions:\n",
    "\n",
    "We're assuming that sample size of 30K examples are sufficient to represent the entire population of sales/reviews\n",
    "We're assuming that the information we find in the text reviews of each product will be rich enough to train a\n",
    "sentiment analysis classifier with accuracy (hopefully) > 70%\n"
   ]
  },
  {
   "cell_type": "markdown",
   "id": "5382a4e8",
   "metadata": {},
   "source": [
    "# Quick Look at the Raw Data"
   ]
  },
  {
   "cell_type": "code",
   "execution_count": 12,
   "id": "c139305b",
   "metadata": {},
   "outputs": [],
   "source": [
    "import pandas as pd\n",
    "import matplotlib.pyplot as plt\n",
    "import numpy as np\n",
    "import seaborn as sns\n",
    "import math\n",
    "import warnings\n",
    "warnings.filterwarnings('ignore') # Hides warning\n",
    "warnings.filterwarnings(\"ignore\", category=DeprecationWarning)\n",
    "warnings.filterwarnings(\"ignore\",category=UserWarning)\n",
    "sns.set_style(\"whitegrid\") # Plotting style\n",
    "%matplotlib inline \n"
   ]
  },
  {
   "cell_type": "code",
   "execution_count": 13,
   "id": "96666161",
   "metadata": {},
   "outputs": [],
   "source": [
    "data=pd.read_csv(\"C:\\\\Users\\\\Lenovo\\\\Downloads\\\\1429_1.csv\")\n"
   ]
  },
  {
   "cell_type": "code",
   "execution_count": 14,
   "id": "022f6fc8",
   "metadata": {},
   "outputs": [
    {
     "data": {
      "text/html": [
       "<div>\n",
       "<style scoped>\n",
       "    .dataframe tbody tr th:only-of-type {\n",
       "        vertical-align: middle;\n",
       "    }\n",
       "\n",
       "    .dataframe tbody tr th {\n",
       "        vertical-align: top;\n",
       "    }\n",
       "\n",
       "    .dataframe thead th {\n",
       "        text-align: right;\n",
       "    }\n",
       "</style>\n",
       "<table border=\"1\" class=\"dataframe\">\n",
       "  <thead>\n",
       "    <tr style=\"text-align: right;\">\n",
       "      <th></th>\n",
       "      <th>id</th>\n",
       "      <th>name</th>\n",
       "      <th>asins</th>\n",
       "      <th>brand</th>\n",
       "      <th>categories</th>\n",
       "      <th>keys</th>\n",
       "      <th>manufacturer</th>\n",
       "      <th>reviews.date</th>\n",
       "      <th>reviews.dateAdded</th>\n",
       "      <th>reviews.dateSeen</th>\n",
       "      <th>...</th>\n",
       "      <th>reviews.doRecommend</th>\n",
       "      <th>reviews.id</th>\n",
       "      <th>reviews.numHelpful</th>\n",
       "      <th>reviews.rating</th>\n",
       "      <th>reviews.sourceURLs</th>\n",
       "      <th>reviews.text</th>\n",
       "      <th>reviews.title</th>\n",
       "      <th>reviews.userCity</th>\n",
       "      <th>reviews.userProvince</th>\n",
       "      <th>reviews.username</th>\n",
       "    </tr>\n",
       "  </thead>\n",
       "  <tbody>\n",
       "    <tr>\n",
       "      <th>0</th>\n",
       "      <td>AVqkIhwDv8e3D1O-lebb</td>\n",
       "      <td>All-New Fire HD 8 Tablet, 8 HD Display, Wi-Fi,...</td>\n",
       "      <td>B01AHB9CN2</td>\n",
       "      <td>Amazon</td>\n",
       "      <td>Electronics,iPad &amp; Tablets,All Tablets,Fire Ta...</td>\n",
       "      <td>841667104676,amazon/53004484,amazon/b01ahb9cn2...</td>\n",
       "      <td>Amazon</td>\n",
       "      <td>2017-01-13T00:00:00.000Z</td>\n",
       "      <td>2017-07-03T23:33:15Z</td>\n",
       "      <td>2017-06-07T09:04:00.000Z,2017-04-30T00:45:00.000Z</td>\n",
       "      <td>...</td>\n",
       "      <td>True</td>\n",
       "      <td>NaN</td>\n",
       "      <td>0.0</td>\n",
       "      <td>5.0</td>\n",
       "      <td>http://reviews.bestbuy.com/3545/5620406/review...</td>\n",
       "      <td>This product so far has not disappointed. My c...</td>\n",
       "      <td>Kindle</td>\n",
       "      <td>NaN</td>\n",
       "      <td>NaN</td>\n",
       "      <td>Adapter</td>\n",
       "    </tr>\n",
       "    <tr>\n",
       "      <th>1</th>\n",
       "      <td>AVqkIhwDv8e3D1O-lebb</td>\n",
       "      <td>All-New Fire HD 8 Tablet, 8 HD Display, Wi-Fi,...</td>\n",
       "      <td>B01AHB9CN2</td>\n",
       "      <td>Amazon</td>\n",
       "      <td>Electronics,iPad &amp; Tablets,All Tablets,Fire Ta...</td>\n",
       "      <td>841667104676,amazon/53004484,amazon/b01ahb9cn2...</td>\n",
       "      <td>Amazon</td>\n",
       "      <td>2017-01-13T00:00:00.000Z</td>\n",
       "      <td>2017-07-03T23:33:15Z</td>\n",
       "      <td>2017-06-07T09:04:00.000Z,2017-04-30T00:45:00.000Z</td>\n",
       "      <td>...</td>\n",
       "      <td>True</td>\n",
       "      <td>NaN</td>\n",
       "      <td>0.0</td>\n",
       "      <td>5.0</td>\n",
       "      <td>http://reviews.bestbuy.com/3545/5620406/review...</td>\n",
       "      <td>great for beginner or experienced person. Boug...</td>\n",
       "      <td>very fast</td>\n",
       "      <td>NaN</td>\n",
       "      <td>NaN</td>\n",
       "      <td>truman</td>\n",
       "    </tr>\n",
       "  </tbody>\n",
       "</table>\n",
       "<p>2 rows × 21 columns</p>\n",
       "</div>"
      ],
      "text/plain": [
       "                     id                                               name  \\\n",
       "0  AVqkIhwDv8e3D1O-lebb  All-New Fire HD 8 Tablet, 8 HD Display, Wi-Fi,...   \n",
       "1  AVqkIhwDv8e3D1O-lebb  All-New Fire HD 8 Tablet, 8 HD Display, Wi-Fi,...   \n",
       "\n",
       "        asins   brand                                         categories  \\\n",
       "0  B01AHB9CN2  Amazon  Electronics,iPad & Tablets,All Tablets,Fire Ta...   \n",
       "1  B01AHB9CN2  Amazon  Electronics,iPad & Tablets,All Tablets,Fire Ta...   \n",
       "\n",
       "                                                keys manufacturer  \\\n",
       "0  841667104676,amazon/53004484,amazon/b01ahb9cn2...       Amazon   \n",
       "1  841667104676,amazon/53004484,amazon/b01ahb9cn2...       Amazon   \n",
       "\n",
       "               reviews.date     reviews.dateAdded  \\\n",
       "0  2017-01-13T00:00:00.000Z  2017-07-03T23:33:15Z   \n",
       "1  2017-01-13T00:00:00.000Z  2017-07-03T23:33:15Z   \n",
       "\n",
       "                                    reviews.dateSeen  ... reviews.doRecommend  \\\n",
       "0  2017-06-07T09:04:00.000Z,2017-04-30T00:45:00.000Z  ...                True   \n",
       "1  2017-06-07T09:04:00.000Z,2017-04-30T00:45:00.000Z  ...                True   \n",
       "\n",
       "  reviews.id  reviews.numHelpful  reviews.rating  \\\n",
       "0        NaN                 0.0             5.0   \n",
       "1        NaN                 0.0             5.0   \n",
       "\n",
       "                                  reviews.sourceURLs  \\\n",
       "0  http://reviews.bestbuy.com/3545/5620406/review...   \n",
       "1  http://reviews.bestbuy.com/3545/5620406/review...   \n",
       "\n",
       "                                        reviews.text reviews.title  \\\n",
       "0  This product so far has not disappointed. My c...        Kindle   \n",
       "1  great for beginner or experienced person. Boug...     very fast   \n",
       "\n",
       "  reviews.userCity  reviews.userProvince  reviews.username  \n",
       "0              NaN                   NaN           Adapter  \n",
       "1              NaN                   NaN            truman  \n",
       "\n",
       "[2 rows x 21 columns]"
      ]
     },
     "execution_count": 14,
     "metadata": {},
     "output_type": "execute_result"
    }
   ],
   "source": [
    "data.head(2)\n"
   ]
  },
  {
   "cell_type": "markdown",
   "id": "77af082a",
   "metadata": {},
   "source": [
    "We can potentially refine sentiment analysis with the reviews.text column, \n",
    "with the actual rating of reviews.doRecommend column (boolean)\n",
    "\n",
    "We can also label each review based on each sentiment\n"
   ]
  },
  {
   "cell_type": "code",
   "execution_count": 59,
   "id": "6bb46d85",
   "metadata": {},
   "outputs": [
    {
     "data": {
      "text/html": [
       "<div>\n",
       "<style scoped>\n",
       "    .dataframe tbody tr th:only-of-type {\n",
       "        vertical-align: middle;\n",
       "    }\n",
       "\n",
       "    .dataframe tbody tr th {\n",
       "        vertical-align: top;\n",
       "    }\n",
       "\n",
       "    .dataframe thead th {\n",
       "        text-align: right;\n",
       "    }\n",
       "</style>\n",
       "<table border=\"1\" class=\"dataframe\">\n",
       "  <thead>\n",
       "    <tr style=\"text-align: right;\">\n",
       "      <th></th>\n",
       "      <th>reviews.id</th>\n",
       "      <th>reviews.numHelpful</th>\n",
       "      <th>reviews.rating</th>\n",
       "      <th>reviews.userCity</th>\n",
       "      <th>reviews.userProvince</th>\n",
       "    </tr>\n",
       "  </thead>\n",
       "  <tbody>\n",
       "    <tr>\n",
       "      <th>count</th>\n",
       "      <td>1.0</td>\n",
       "      <td>34131.000000</td>\n",
       "      <td>34627.000000</td>\n",
       "      <td>0.0</td>\n",
       "      <td>0.0</td>\n",
       "    </tr>\n",
       "    <tr>\n",
       "      <th>mean</th>\n",
       "      <td>111372787.0</td>\n",
       "      <td>0.630248</td>\n",
       "      <td>4.584573</td>\n",
       "      <td>NaN</td>\n",
       "      <td>NaN</td>\n",
       "    </tr>\n",
       "    <tr>\n",
       "      <th>std</th>\n",
       "      <td>NaN</td>\n",
       "      <td>13.215775</td>\n",
       "      <td>0.735653</td>\n",
       "      <td>NaN</td>\n",
       "      <td>NaN</td>\n",
       "    </tr>\n",
       "    <tr>\n",
       "      <th>min</th>\n",
       "      <td>111372787.0</td>\n",
       "      <td>0.000000</td>\n",
       "      <td>1.000000</td>\n",
       "      <td>NaN</td>\n",
       "      <td>NaN</td>\n",
       "    </tr>\n",
       "    <tr>\n",
       "      <th>25%</th>\n",
       "      <td>111372787.0</td>\n",
       "      <td>0.000000</td>\n",
       "      <td>4.000000</td>\n",
       "      <td>NaN</td>\n",
       "      <td>NaN</td>\n",
       "    </tr>\n",
       "    <tr>\n",
       "      <th>50%</th>\n",
       "      <td>111372787.0</td>\n",
       "      <td>0.000000</td>\n",
       "      <td>5.000000</td>\n",
       "      <td>NaN</td>\n",
       "      <td>NaN</td>\n",
       "    </tr>\n",
       "    <tr>\n",
       "      <th>75%</th>\n",
       "      <td>111372787.0</td>\n",
       "      <td>0.000000</td>\n",
       "      <td>5.000000</td>\n",
       "      <td>NaN</td>\n",
       "      <td>NaN</td>\n",
       "    </tr>\n",
       "    <tr>\n",
       "      <th>max</th>\n",
       "      <td>111372787.0</td>\n",
       "      <td>814.000000</td>\n",
       "      <td>5.000000</td>\n",
       "      <td>NaN</td>\n",
       "      <td>NaN</td>\n",
       "    </tr>\n",
       "  </tbody>\n",
       "</table>\n",
       "</div>"
      ],
      "text/plain": [
       "        reviews.id  reviews.numHelpful  reviews.rating  reviews.userCity  \\\n",
       "count          1.0        34131.000000    34627.000000               0.0   \n",
       "mean   111372787.0            0.630248        4.584573               NaN   \n",
       "std            NaN           13.215775        0.735653               NaN   \n",
       "min    111372787.0            0.000000        1.000000               NaN   \n",
       "25%    111372787.0            0.000000        4.000000               NaN   \n",
       "50%    111372787.0            0.000000        5.000000               NaN   \n",
       "75%    111372787.0            0.000000        5.000000               NaN   \n",
       "max    111372787.0          814.000000        5.000000               NaN   \n",
       "\n",
       "       reviews.userProvince  \n",
       "count                   0.0  \n",
       "mean                    NaN  \n",
       "std                     NaN  \n",
       "min                     NaN  \n",
       "25%                     NaN  \n",
       "50%                     NaN  \n",
       "75%                     NaN  \n",
       "max                     NaN  "
      ]
     },
     "execution_count": 59,
     "metadata": {},
     "output_type": "execute_result"
    }
   ],
   "source": [
    "data = data.copy()\n",
    "data.describe()\n"
   ]
  },
  {
   "cell_type": "markdown",
   "id": "1539a32b",
   "metadata": {},
   "source": [
    "Based on the descriptive statistics above, we see the following:\n",
    "\n",
    "Average review score of 4.58, with low standard deviation\n",
    "Most review are positive from 2nd quartile onwards\n",
    "The average for number of reviews helpful (reviews.numHelpful) is 0.6 but high standard deviation\n",
    "\n",
    "The data are pretty spread out around the mean, and since can't have negative people finding something helpful, then this is only on the right tail side\n",
    "The range of most reviews will be between 0-13 people finding helpful (reviews.numHelpful)\n",
    "\n",
    "The most helpful review was helpful to 814 people\n",
    "This could be a detailed, rich review that will be worth looking at\n",
    "d"
   ]
  },
  {
   "cell_type": "code",
   "execution_count": 16,
   "id": "521a8526",
   "metadata": {},
   "outputs": [
    {
     "name": "stdout",
     "output_type": "stream",
     "text": [
      "<class 'pandas.core.frame.DataFrame'>\n",
      "RangeIndex: 34660 entries, 0 to 34659\n",
      "Data columns (total 21 columns):\n",
      " #   Column                Non-Null Count  Dtype  \n",
      "---  ------                --------------  -----  \n",
      " 0   id                    34660 non-null  object \n",
      " 1   name                  27900 non-null  object \n",
      " 2   asins                 34658 non-null  object \n",
      " 3   brand                 34660 non-null  object \n",
      " 4   categories            34660 non-null  object \n",
      " 5   keys                  34660 non-null  object \n",
      " 6   manufacturer          34660 non-null  object \n",
      " 7   reviews.date          34621 non-null  object \n",
      " 8   reviews.dateAdded     24039 non-null  object \n",
      " 9   reviews.dateSeen      34660 non-null  object \n",
      " 10  reviews.didPurchase   1 non-null      object \n",
      " 11  reviews.doRecommend   34066 non-null  object \n",
      " 12  reviews.id            1 non-null      float64\n",
      " 13  reviews.numHelpful    34131 non-null  float64\n",
      " 14  reviews.rating        34627 non-null  float64\n",
      " 15  reviews.sourceURLs    34660 non-null  object \n",
      " 16  reviews.text          34659 non-null  object \n",
      " 17  reviews.title         34655 non-null  object \n",
      " 18  reviews.userCity      0 non-null      float64\n",
      " 19  reviews.userProvince  0 non-null      float64\n",
      " 20  reviews.username      34658 non-null  object \n",
      "dtypes: float64(5), object(16)\n",
      "memory usage: 5.6+ MB\n"
     ]
    }
   ],
   "source": [
    "data.info()\n"
   ]
  },
  {
   "cell_type": "code",
   "execution_count": 17,
   "id": "f34fb9fe",
   "metadata": {},
   "outputs": [
    {
     "data": {
      "text/plain": [
       "array(['B01AHB9CN2', 'B00VINDBJK', 'B005PB2T0S', 'B002Y27P3M',\n",
       "       'B01AHB9CYG', 'B01AHB9C1E', 'B01J2G4VBG', 'B00ZV9PXP2',\n",
       "       'B0083Q04TA', 'B018Y229OU', 'B00REQKWGA', 'B00IOYAM4I',\n",
       "       'B018T075DC', nan, 'B00DU15MU4', 'B018Y225IA', 'B005PB2T2Q',\n",
       "       'B018Y23MNM', 'B00OQVZDJM', 'B00IOY8XWQ', 'B00LO29KXQ',\n",
       "       'B00QJDU3KY', 'B018Y22C2Y', 'B01BFIBRIE', 'B01J4ORNHU',\n",
       "       'B018SZT3BK', 'B00UH4D8G2', 'B018Y22BI4', 'B00TSUGXKE',\n",
       "       'B00L9EPT8O,B01E6AO69U', 'B018Y23P7K', 'B00X4WHP5E', 'B00QFQRELG',\n",
       "       'B00LW9XOJM', 'B00QL1ZN3G', 'B0189XYY0Q', 'B01BH83OOM',\n",
       "       'B00BFJAHF8', 'B00U3FPN4U', 'B002Y27P6Y', 'B006GWO5NE',\n",
       "       'B006GWO5WK'], dtype=object)"
      ]
     },
     "execution_count": 17,
     "metadata": {},
     "output_type": "execute_result"
    }
   ],
   "source": [
    "data[\"asins\"].unique()\n"
   ]
  },
  {
   "cell_type": "code",
   "execution_count": 18,
   "id": "b1bbe3dd",
   "metadata": {},
   "outputs": [
    {
     "name": "stdout",
     "output_type": "stream",
     "text": [
      "Number of Unique ASINs: 42\n"
     ]
    }
   ],
   "source": [
    "asins_unique = len(data[\"asins\"].unique())\n",
    "print(\"Number of Unique ASINs: \" + str(asins_unique))\n"
   ]
  },
  {
   "cell_type": "code",
   "execution_count": 19,
   "id": "748fb6e3",
   "metadata": {},
   "outputs": [
    {
     "data": {
      "image/png": "[encoded data removed]",
      "text/plain": [
       "<Figure size 1440x1080 with 6 Axes>"
      ]
     },
     "metadata": {
      "needs_background": "light"
     },
     "output_type": "display_data"
    }
   ],
   "source": [
    "data.hist(bins=50, figsize=(20,15)) # builds histogram and set the number of bins and fig size (width, height)\n",
    "plt.show()"
   ]
  },
  {
   "cell_type": "code",
   "execution_count": 20,
   "id": "5cbb4849",
   "metadata": {},
   "outputs": [
    {
     "name": "stdout",
     "output_type": "stream",
     "text": [
      "Before 34660\n",
      "After 34627\n"
     ]
    }
   ],
   "source": [
    "from sklearn.model_selection import StratifiedShuffleSplit\n",
    "print(\"Before {}\".format(len(data)))\n",
    "dataAfter = data.dropna(subset=[\"reviews.rating\"]) # removes all NAN in reviews.rating\n",
    "print(\"After {}\".format(len(dataAfter)))\n",
    "dataAfter[\"reviews.rating\"] = dataAfter[\"reviews.rating\"].astype(int)\n"
   ]
  },
  {
   "cell_type": "code",
   "execution_count": 21,
   "id": "5ce8c8b5",
   "metadata": {},
   "outputs": [],
   "source": [
    "split = StratifiedShuffleSplit(n_splits=5, test_size=0.2)\n",
    "for train_index, test_index in split.split(dataAfter, dataAfter[\"reviews.rating\"]): \n",
    "    strat_train = dataAfter.reindex(train_index)\n",
    "    strat_test = dataAfter.reindex(test_index)\n"
   ]
  },
  {
   "cell_type": "code",
   "execution_count": 22,
   "id": "c37d4ff4",
   "metadata": {},
   "outputs": [
    {
     "data": {
      "text/plain": [
       "27701"
      ]
     },
     "execution_count": 22,
     "metadata": {},
     "output_type": "execute_result"
    }
   ],
   "source": [
    "len(strat_train)\n"
   ]
  },
  {
   "cell_type": "code",
   "execution_count": 23,
   "id": "9b1513f9",
   "metadata": {},
   "outputs": [
    {
     "data": {
      "text/plain": [
       "5.0    0.686257\n",
       "4.0    0.247067\n",
       "3.0    0.043031\n",
       "2.0    0.011805\n",
       "1.0    0.010938\n",
       "Name: reviews.rating, dtype: float64"
      ]
     },
     "execution_count": 23,
     "metadata": {},
     "output_type": "execute_result"
    }
   ],
   "source": [
    "strat_train[\"reviews.rating\"].value_counts()/len(strat_train) # value_count() counts all the values based on column\n"
   ]
  },
  {
   "cell_type": "code",
   "execution_count": 24,
   "id": "093cb91c",
   "metadata": {},
   "outputs": [
    {
     "data": {
      "text/plain": [
       "6926"
      ]
     },
     "execution_count": 24,
     "metadata": {},
     "output_type": "execute_result"
    }
   ],
   "source": [
    "len(strat_test)\n"
   ]
  },
  {
   "cell_type": "code",
   "execution_count": 25,
   "id": "5699049e",
   "metadata": {},
   "outputs": [
    {
     "data": {
      "text/plain": [
       "5.0    0.685533\n",
       "4.0    0.244586\n",
       "3.0    0.044037\n",
       "1.0    0.014005\n",
       "2.0    0.010684\n",
       "Name: reviews.rating, dtype: float64"
      ]
     },
     "execution_count": 25,
     "metadata": {},
     "output_type": "execute_result"
    }
   ],
   "source": [
    "strat_test[\"reviews.rating\"].value_counts()/len(strat_test)\n"
   ]
  },
  {
   "cell_type": "code",
   "execution_count": 26,
   "id": "4c689082",
   "metadata": {},
   "outputs": [
    {
     "data": {
      "text/html": [
       "<div>\n",
       "<style scoped>\n",
       "    .dataframe tbody tr th:only-of-type {\n",
       "        vertical-align: middle;\n",
       "    }\n",
       "\n",
       "    .dataframe tbody tr th {\n",
       "        vertical-align: top;\n",
       "    }\n",
       "\n",
       "    .dataframe thead th {\n",
       "        text-align: right;\n",
       "    }\n",
       "</style>\n",
       "<table border=\"1\" class=\"dataframe\">\n",
       "  <thead>\n",
       "    <tr style=\"text-align: right;\">\n",
       "      <th></th>\n",
       "      <th>id</th>\n",
       "      <th>name</th>\n",
       "      <th>asins</th>\n",
       "      <th>brand</th>\n",
       "      <th>categories</th>\n",
       "      <th>keys</th>\n",
       "      <th>manufacturer</th>\n",
       "      <th>reviews.date</th>\n",
       "      <th>reviews.dateAdded</th>\n",
       "      <th>reviews.dateSeen</th>\n",
       "      <th>...</th>\n",
       "      <th>reviews.doRecommend</th>\n",
       "      <th>reviews.id</th>\n",
       "      <th>reviews.numHelpful</th>\n",
       "      <th>reviews.rating</th>\n",
       "      <th>reviews.sourceURLs</th>\n",
       "      <th>reviews.text</th>\n",
       "      <th>reviews.title</th>\n",
       "      <th>reviews.userCity</th>\n",
       "      <th>reviews.userProvince</th>\n",
       "      <th>reviews.username</th>\n",
       "    </tr>\n",
       "  </thead>\n",
       "  <tbody>\n",
       "    <tr>\n",
       "      <th>2392</th>\n",
       "      <td>AVqkIhwDv8e3D1O-lebb</td>\n",
       "      <td>All-New Fire HD 8 Tablet, 8 HD Display, Wi-Fi,...</td>\n",
       "      <td>B01AHB9CN2</td>\n",
       "      <td>Amazon</td>\n",
       "      <td>Electronics,iPad &amp; Tablets,All Tablets,Fire Ta...</td>\n",
       "      <td>841667104676,amazon/53004484,amazon/b01ahb9cn2...</td>\n",
       "      <td>Amazon</td>\n",
       "      <td>2017-01-08T00:00:00.000Z</td>\n",
       "      <td>2017-05-21T06:03:21Z</td>\n",
       "      <td>2017-04-30T00:45:00.000Z,2017-06-07T09:03:00.000Z</td>\n",
       "      <td>...</td>\n",
       "      <td>True</td>\n",
       "      <td>NaN</td>\n",
       "      <td>0.0</td>\n",
       "      <td>5.0</td>\n",
       "      <td>http://reviews.bestbuy.com/3545/5620406/review...</td>\n",
       "      <td>Easy to use, fast, sleek and battery holds goo...</td>\n",
       "      <td>Love it</td>\n",
       "      <td>NaN</td>\n",
       "      <td>NaN</td>\n",
       "      <td>Maljr123</td>\n",
       "    </tr>\n",
       "    <tr>\n",
       "      <th>29952</th>\n",
       "      <td>AV1YE_muvKc47QAVgpwE</td>\n",
       "      <td>NaN</td>\n",
       "      <td>B00U3FPN4U</td>\n",
       "      <td>Amazon Fire Tv</td>\n",
       "      <td>Back To College,College Electronics,College Tv...</td>\n",
       "      <td>848719057492,amazonfiretv/51454342,amazonfiret...</td>\n",
       "      <td>Amazon</td>\n",
       "      <td>2016-06-23T00:00:00.000Z</td>\n",
       "      <td>2017-09-20T05:35:59Z</td>\n",
       "      <td>2017-08-25T22:40:37.270Z,2017-08-19T09:25:31.0...</td>\n",
       "      <td>...</td>\n",
       "      <td>True</td>\n",
       "      <td>NaN</td>\n",
       "      <td>0.0</td>\n",
       "      <td>5.0</td>\n",
       "      <td>http://reviews.bestbuy.com/3545/4370400/review...</td>\n",
       "      <td>Perfect gift. My family love it! Have one in e...</td>\n",
       "      <td>Perfect</td>\n",
       "      <td>NaN</td>\n",
       "      <td>NaN</td>\n",
       "      <td>Dscott9218</td>\n",
       "    </tr>\n",
       "  </tbody>\n",
       "</table>\n",
       "<p>2 rows × 21 columns</p>\n",
       "</div>"
      ],
      "text/plain": [
       "                         id  \\\n",
       "2392   AVqkIhwDv8e3D1O-lebb   \n",
       "29952  AV1YE_muvKc47QAVgpwE   \n",
       "\n",
       "                                                    name       asins  \\\n",
       "2392   All-New Fire HD 8 Tablet, 8 HD Display, Wi-Fi,...  B01AHB9CN2   \n",
       "29952                                                NaN  B00U3FPN4U   \n",
       "\n",
       "                brand                                         categories  \\\n",
       "2392           Amazon  Electronics,iPad & Tablets,All Tablets,Fire Ta...   \n",
       "29952  Amazon Fire Tv  Back To College,College Electronics,College Tv...   \n",
       "\n",
       "                                                    keys manufacturer  \\\n",
       "2392   841667104676,amazon/53004484,amazon/b01ahb9cn2...       Amazon   \n",
       "29952  848719057492,amazonfiretv/51454342,amazonfiret...       Amazon   \n",
       "\n",
       "                   reviews.date     reviews.dateAdded  \\\n",
       "2392   2017-01-08T00:00:00.000Z  2017-05-21T06:03:21Z   \n",
       "29952  2016-06-23T00:00:00.000Z  2017-09-20T05:35:59Z   \n",
       "\n",
       "                                        reviews.dateSeen  ...  \\\n",
       "2392   2017-04-30T00:45:00.000Z,2017-06-07T09:03:00.000Z  ...   \n",
       "29952  2017-08-25T22:40:37.270Z,2017-08-19T09:25:31.0...  ...   \n",
       "\n",
       "      reviews.doRecommend reviews.id  reviews.numHelpful  reviews.rating  \\\n",
       "2392                 True        NaN                 0.0             5.0   \n",
       "29952                True        NaN                 0.0             5.0   \n",
       "\n",
       "                                      reviews.sourceURLs  \\\n",
       "2392   http://reviews.bestbuy.com/3545/5620406/review...   \n",
       "29952  http://reviews.bestbuy.com/3545/4370400/review...   \n",
       "\n",
       "                                            reviews.text reviews.title  \\\n",
       "2392   Easy to use, fast, sleek and battery holds goo...       Love it   \n",
       "29952  Perfect gift. My family love it! Have one in e...       Perfect   \n",
       "\n",
       "      reviews.userCity  reviews.userProvince  reviews.username  \n",
       "2392               NaN                   NaN          Maljr123  \n",
       "29952              NaN                   NaN        Dscott9218  \n",
       "\n",
       "[2 rows x 21 columns]"
      ]
     },
     "execution_count": 26,
     "metadata": {},
     "output_type": "execute_result"
    }
   ],
   "source": [
    "reviews = strat_train.copy()\n",
    "reviews.head(2)\n"
   ]
  },
  {
   "cell_type": "code",
   "execution_count": 27,
   "id": "225c7f1f",
   "metadata": {},
   "outputs": [
    {
     "data": {
      "text/plain": [
       "(46, 36)"
      ]
     },
     "execution_count": 27,
     "metadata": {},
     "output_type": "execute_result"
    }
   ],
   "source": [
    "len(reviews[\"name\"].unique()), len(reviews[\"asins\"].unique())\n"
   ]
  },
  {
   "cell_type": "code",
   "execution_count": 28,
   "id": "ca5b8ec3",
   "metadata": {},
   "outputs": [
    {
     "name": "stdout",
     "output_type": "stream",
     "text": [
      "<class 'pandas.core.frame.DataFrame'>\n",
      "Int64Index: 27701 entries, 2392 to 13901\n",
      "Data columns (total 21 columns):\n",
      " #   Column                Non-Null Count  Dtype  \n",
      "---  ------                --------------  -----  \n",
      " 0   id                    27676 non-null  object \n",
      " 1   name                  22370 non-null  object \n",
      " 2   asins                 27675 non-null  object \n",
      " 3   brand                 27676 non-null  object \n",
      " 4   categories            27676 non-null  object \n",
      " 5   keys                  27676 non-null  object \n",
      " 6   manufacturer          27676 non-null  object \n",
      " 7   reviews.date          27656 non-null  object \n",
      " 8   reviews.dateAdded     19221 non-null  object \n",
      " 9   reviews.dateSeen      27676 non-null  object \n",
      " 10  reviews.didPurchase   1 non-null      object \n",
      " 11  reviews.doRecommend   27245 non-null  object \n",
      " 12  reviews.id            1 non-null      float64\n",
      " 13  reviews.numHelpful    27293 non-null  float64\n",
      " 14  reviews.rating        27676 non-null  float64\n",
      " 15  reviews.sourceURLs    27676 non-null  object \n",
      " 16  reviews.text          27676 non-null  object \n",
      " 17  reviews.title         27672 non-null  object \n",
      " 18  reviews.userCity      0 non-null      float64\n",
      " 19  reviews.userProvince  0 non-null      float64\n",
      " 20  reviews.username      27674 non-null  object \n",
      "dtypes: float64(5), object(16)\n",
      "memory usage: 4.6+ MB\n"
     ]
    }
   ],
   "source": [
    "reviews.info()\n"
   ]
  },
  {
   "cell_type": "code",
   "execution_count": 29,
   "id": "f27396f0",
   "metadata": {},
   "outputs": [
    {
     "data": {
      "text/plain": [
       "asins\n",
       "B005PB2T0S               [Amazon Kindle Lighted Leather Cover,,,\\r\\nKin...\n",
       "B005PB2T2Q               [Fire Kids Edition Tablet, 7 Display, Wi-Fi, 1...\n",
       "B00DU15MU4               [Brand New Amazon Kindle Fire 16gb 7 Ips Displ...\n",
       "B00IOY8XWQ               [Kindle Voyage E-reader, 6 High-Resolution Dis...\n",
       "B00IOYAM4I               [Brand New Amazon Kindle Fire 16gb 7 Ips Displ...\n",
       "B00L9EPT8O,B01E6AO69U    [Echo (White),,,\\r\\nEcho (White),,,, Amazon Fi...\n",
       "B00LO29KXQ               [Fire Tablet, 7 Display, Wi-Fi, 8 GB - Include...\n",
       "B00LW9XOJM                                                           [nan]\n",
       "B00OQVZDJM               [Amazon Kindle Paperwhite - eBook reader - 4 G...\n",
       "B00QFQRELG                                                           [nan]\n",
       "B00QJDU3KY               [Fire Tablet, 7 Display, Wi-Fi, 8 GB - Include...\n",
       "B00QL1ZN3G                                                           [nan]\n",
       "B00REQKWGA               [Brand New Amazon Kindle Fire 16gb 7 Ips Displ...\n",
       "B00TSUGXKE                            [Echo (White),,,\\r\\nEcho (White),,,]\n",
       "B00U3FPN4U                                                           [nan]\n",
       "B00UH4D8G2                            [Echo (White),,,\\r\\nEcho (White),,,]\n",
       "B00VINDBJK               [Kindle Oasis E-reader with Leather Charging C...\n",
       "B00X4WHP5E                                                           [nan]\n",
       "B00ZV9PXP2               [Fire Tablet, 7 Display, Wi-Fi, 8 GB - Include...\n",
       "B0189XYY0Q                                                           [nan]\n",
       "B018SZT3BK               [Fire Tablet, 7 Display, Wi-Fi, 8 GB - Include...\n",
       "B018T075DC               [Brand New Amazon Kindle Fire 16gb 7 Ips Displ...\n",
       "B018Y225IA               [Fire Kids Edition Tablet, 7 Display, Wi-Fi, 1...\n",
       "B018Y229OU               [Fire Tablet, 7 Display, Wi-Fi, 8 GB - Include...\n",
       "B018Y22BI4                            [Echo (White),,,\\r\\nEcho (White),,,]\n",
       "B018Y22C2Y               [Fire Tablet, 7 Display, Wi-Fi, 8 GB - Include...\n",
       "B018Y23MNM               [Fire Kids Edition Tablet, 7 Display, Wi-Fi, 1...\n",
       "B018Y23P7K                                                           [nan]\n",
       "B01AHB9C1E               [Amazon 5W USB Official OEM Charger and Power ...\n",
       "B01AHB9CN2               [All-New Fire HD 8 Tablet, 8 HD Display, Wi-Fi...\n",
       "B01AHB9CYG               [All-New Fire HD 8 Tablet, 8 HD Display, Wi-Fi...\n",
       "B01BFIBRIE               [Fire Tablet, 7 Display, Wi-Fi, 8 GB - Include...\n",
       "B01BH83OOM                                                           [nan]\n",
       "B01J2G4VBG               [Amazon 5W USB Official OEM Charger and Power ...\n",
       "B01J4ORNHU               [Fire Tablet, 7 Display, Wi-Fi, 8 GB - Include...\n",
       "Name: name, dtype: object"
      ]
     },
     "execution_count": 29,
     "metadata": {},
     "output_type": "execute_result"
    }
   ],
   "source": [
    "reviews.groupby(\"asins\")[\"name\"].unique()\n"
   ]
  },
  {
   "cell_type": "code",
   "execution_count": 30,
   "id": "c7800577",
   "metadata": {},
   "outputs": [
    {
     "name": "stdout",
     "output_type": "stream",
     "text": [
      "Echo (White),,,\r\n",
      "Echo (White),,,\n",
      "Amazon Fire Tv,,,\r\n",
      "Amazon Fire Tv,,,\n",
      "nan\n",
      "Amazon - Amazon Tap Portable Bluetooth and Wi-Fi Speaker - Black,,,\r\n",
      "Amazon - Amazon Tap Portable Bluetooth and Wi-Fi Speaker - Black,,,\n",
      "Amazon 9W PowerFast Official OEM USB Charger and Power Adapter for Fire Tablets and Kindle eReaders,,,\r\n",
      "Amazon 9W PowerFast Official OEM USB Charger and Power Adapter for Fire Tablets and Kindle eReaders,,,\n",
      "Amazon Fire Hd 10 Tablet, Wi-Fi, 16 Gb, Special Offers - Silver Aluminum,,,\r\n",
      "Amazon Fire Hd 10 Tablet, Wi-Fi, 16 Gb, Special Offers - Silver Aluminum,,,\n",
      "Coconut Water Red Tea 16.5 Oz (pack of 12),,,\r\n",
      "Amazon Fire Tv,,,\n",
      "Kindle Dx Leather Cover, Black (fits 9.7 Display, Latest and 2nd Generation Kindle Dxs),,\n",
      "New Amazon Kindle Fire Hd 9w Powerfast Adapter Charger + Micro Usb Angle Cable,,,\r\n",
      "\n",
      "New Amazon Kindle Fire Hd 9w Powerfast Adapter Charger + Micro Usb Angle Cable,,,\r\n",
      "New Amazon Kindle Fire Hd 9w Powerfast Adapter Charger + Micro Usb Angle Cable,,,\n",
      "Amazon 5W USB Official OEM Charger and Power Adapter for Fire Tablets and Kindle eReaders,,,\r\n",
      "Amazon 5W USB Official OEM Charger and Power Adapter for Fire Tablets and Kindle eReaders,,,\n",
      "Amazon Fire Hd 6 Standing Protective Case(4th Generation - 2014 Release), Cayenne Red,,,\r\n",
      "Amazon Fire Hd 6 Standing Protective Case(4th Generation - 2014 Release), Cayenne Red,,,\n",
      "Echo (Black),,,\r\n",
      "Echo (Black),,,\n",
      "Amazon Fire Tv,,,\r\n",
      "Kindle Dx Leather Cover, Black (fits 9.7 Display, Latest and 2nd Generation Kindle Dxs)\",,\n",
      "Amazon Kindle Fire 5ft USB to Micro-USB Cable (works with most Micro-USB Tablets),,,\r\n",
      "Amazon Kindle Fire 5ft USB to Micro-USB Cable (works with most Micro-USB Tablets),,,\n",
      "Echo (Black),,,\r\n",
      "Amazon 9W PowerFast Official OEM USB Charger and Power Adapter for Fire Tablets and Kindle eReaders,,,\n"
     ]
    }
   ],
   "source": [
    "# Lets see all the different names for this product that have 2 ASINs\n",
    "different_names = reviews[reviews[\"asins\"] == \"B00L9EPT8O,B01E6AO69U\"][\"name\"].unique()\n",
    "for name in different_names:\n",
    "    print(name)"
   ]
  },
  {
   "cell_type": "code",
   "execution_count": 31,
   "id": "7bab62a9",
   "metadata": {},
   "outputs": [
    {
     "data": {
      "text/plain": [
       "Echo (White),,,\\r\\nEcho (White),,,                                                                                                                                                                                  2357\n",
       "Amazon Fire Tv,,,\\r\\nAmazon Fire Tv,,,                                                                                                                                                                              2007\n",
       "Amazon - Amazon Tap Portable Bluetooth and Wi-Fi Speaker - Black,,,\\r\\nAmazon - Amazon Tap Portable Bluetooth and Wi-Fi Speaker - Black,,,                                                                           254\n",
       "Amazon Fire Hd 10 Tablet, Wi-Fi, 16 Gb, Special Offers - Silver Aluminum,,,\\r\\nAmazon Fire Hd 10 Tablet, Wi-Fi, 16 Gb, Special Offers - Silver Aluminum,,,                                                           110\n",
       "Amazon 9W PowerFast Official OEM USB Charger and Power Adapter for Fire Tablets and Kindle eReaders,,,\\r\\nAmazon 9W PowerFast Official OEM USB Charger and Power Adapter for Fire Tablets and Kindle eReaders,,,      29\n",
       "Kindle Dx Leather Cover, Black (fits 9.7 Display, Latest and 2nd Generation Kindle Dxs),,                                                                                                                              8\n",
       "New Amazon Kindle Fire Hd 9w Powerfast Adapter Charger + Micro Usb Angle Cable,,,\\r\\nNew Amazon Kindle Fire Hd 9w Powerfast Adapter Charger + Micro Usb Angle Cable,,,                                                 6\n",
       "Amazon 5W USB Official OEM Charger and Power Adapter for Fire Tablets and Kindle eReaders,,,\\r\\nAmazon 5W USB Official OEM Charger and Power Adapter for Fire Tablets and Kindle eReaders,,,                           4\n",
       "Amazon Fire Hd 6 Standing Protective Case(4th Generation - 2014 Release), Cayenne Red,,,\\r\\nAmazon Fire Hd 6 Standing Protective Case(4th Generation - 2014 Release), Cayenne Red,,,                                   3\n",
       "Amazon Kindle Fire 5ft USB to Micro-USB Cable (works with most Micro-USB Tablets),,,\\r\\nAmazon Kindle Fire 5ft USB to Micro-USB Cable (works with most Micro-USB Tablets),,,                                           3\n",
       "Coconut Water Red Tea 16.5 Oz (pack of 12),,,\\r\\nAmazon Fire Tv,,,                                                                                                                                                     1\n",
       "Echo (Black),,,\\r\\nEcho (Black),,,                                                                                                                                                                                     1\n",
       "Amazon Fire Tv,,,\\r\\nKindle Dx Leather Cover, Black (fits 9.7 Display, Latest and 2nd Generation Kindle Dxs)\",,                                                                                                        1\n",
       "Echo (Black),,,\\r\\nAmazon 9W PowerFast Official OEM USB Charger and Power Adapter for Fire Tablets and Kindle eReaders,,,                                                                                              1\n",
       "New Amazon Kindle Fire Hd 9w Powerfast Adapter Charger + Micro Usb Angle Cable,,,\\r\\n                                                                                                                                  1\n",
       "Name: name, dtype: int64"
      ]
     },
     "execution_count": 31,
     "metadata": {},
     "output_type": "execute_result"
    }
   ],
   "source": [
    "reviews[reviews[\"asins\"] == \"B00L9EPT8O,B01E6AO69U\"][\"name\"].value_counts()\n"
   ]
  },
  {
   "cell_type": "code",
   "execution_count": 32,
   "id": "b5f21dd0",
   "metadata": {},
   "outputs": [
    {
     "data": {
      "image/png": "[encoded data removed]",
      "text/plain": [
       "<Figure size 1152x720 with 2 Axes>"
      ]
     },
     "metadata": {
      "needs_background": "light"
     },
     "output_type": "display_data"
    }
   ],
   "source": [
    "fig = plt.figure(figsize=(16,10))\n",
    "ax1 = plt.subplot(211)\n",
    "ax2 = plt.subplot(212, sharex = ax1)\n",
    "reviews[\"asins\"].value_counts().plot(kind=\"bar\", ax=ax1, title=\"ASIN Frequency\")\n",
    "np.log10(reviews[\"asins\"].value_counts()).plot(kind=\"bar\", ax=ax2, title=\"ASIN Frequency (Log10 Adjusted)\") \n",
    "plt.show()"
   ]
  },
  {
   "cell_type": "code",
   "execution_count": 33,
   "id": "7c2aded5",
   "metadata": {},
   "outputs": [
    {
     "data": {
      "text/plain": [
       "4.587331984390808"
      ]
     },
     "execution_count": 33,
     "metadata": {},
     "output_type": "execute_result"
    }
   ],
   "source": [
    "reviews[\"reviews.rating\"].mean()\n"
   ]
  },
  {
   "cell_type": "code",
   "execution_count": 34,
   "id": "d85da9ee",
   "metadata": {},
   "outputs": [
    {
     "data": {
      "image/png": "[encoded data removed]",
      "text/plain": [
       "<Figure size 1152x864 with 2 Axes>"
      ]
     },
     "metadata": {
      "needs_background": "light"
     },
     "output_type": "display_data"
    }
   ],
   "source": [
    "asins_count_ix = reviews[\"asins\"].value_counts().index\n",
    "plt.subplots(2,1,figsize=(16,12))\n",
    "plt.subplot(2,1,1)\n",
    "reviews[\"asins\"].value_counts().plot(kind=\"bar\", title=\"ASIN Frequency\")\n",
    "plt.subplot(2,1,2)\n",
    "sns.pointplot(x=\"asins\", y=\"reviews.rating\", order=asins_count_ix, data=reviews)\n",
    "plt.xticks(rotation=90)\n",
    "plt.show()"
   ]
  },
  {
   "cell_type": "code",
   "execution_count": 35,
   "id": "fe5d1c22",
   "metadata": {},
   "outputs": [
    {
     "data": {
      "image/png": "[encoded data removed]",
      "text/plain": [
       "<Figure size 1152x864 with 2 Axes>"
      ]
     },
     "metadata": {
      "needs_background": "light"
     },
     "output_type": "display_data"
    }
   ],
   "source": [
    "plt.subplots (2,1,figsize=(16,12))\n",
    "plt.subplot(2,1,1)\n",
    "reviews[\"asins\"].value_counts().plot(kind=\"bar\", title=\"ASIN Frequency\")\n",
    "plt.subplot(2,1,2)\n",
    "sns.pointplot(x=\"asins\", y=\"reviews.doRecommend\", order=asins_count_ix, data=reviews)\n",
    "plt.xticks(rotation=90)\n",
    "plt.show()"
   ]
  },
  {
   "cell_type": "code",
   "execution_count": 36,
   "id": "e9110f98",
   "metadata": {},
   "outputs": [
    {
     "data": {
      "text/html": [
       "<div>\n",
       "<style scoped>\n",
       "    .dataframe tbody tr th:only-of-type {\n",
       "        vertical-align: middle;\n",
       "    }\n",
       "\n",
       "    .dataframe tbody tr th {\n",
       "        vertical-align: top;\n",
       "    }\n",
       "\n",
       "    .dataframe thead th {\n",
       "        text-align: right;\n",
       "    }\n",
       "</style>\n",
       "<table border=\"1\" class=\"dataframe\">\n",
       "  <thead>\n",
       "    <tr style=\"text-align: right;\">\n",
       "      <th></th>\n",
       "      <th>reviews.id</th>\n",
       "      <th>reviews.numHelpful</th>\n",
       "      <th>reviews.rating</th>\n",
       "      <th>reviews.userCity</th>\n",
       "      <th>reviews.userProvince</th>\n",
       "    </tr>\n",
       "  </thead>\n",
       "  <tbody>\n",
       "    <tr>\n",
       "      <th>reviews.id</th>\n",
       "      <td>NaN</td>\n",
       "      <td>NaN</td>\n",
       "      <td>NaN</td>\n",
       "      <td>NaN</td>\n",
       "      <td>NaN</td>\n",
       "    </tr>\n",
       "    <tr>\n",
       "      <th>reviews.numHelpful</th>\n",
       "      <td>NaN</td>\n",
       "      <td>1.000000</td>\n",
       "      <td>-0.045199</td>\n",
       "      <td>NaN</td>\n",
       "      <td>NaN</td>\n",
       "    </tr>\n",
       "    <tr>\n",
       "      <th>reviews.rating</th>\n",
       "      <td>NaN</td>\n",
       "      <td>-0.045199</td>\n",
       "      <td>1.000000</td>\n",
       "      <td>NaN</td>\n",
       "      <td>NaN</td>\n",
       "    </tr>\n",
       "    <tr>\n",
       "      <th>reviews.userCity</th>\n",
       "      <td>NaN</td>\n",
       "      <td>NaN</td>\n",
       "      <td>NaN</td>\n",
       "      <td>NaN</td>\n",
       "      <td>NaN</td>\n",
       "    </tr>\n",
       "    <tr>\n",
       "      <th>reviews.userProvince</th>\n",
       "      <td>NaN</td>\n",
       "      <td>NaN</td>\n",
       "      <td>NaN</td>\n",
       "      <td>NaN</td>\n",
       "      <td>NaN</td>\n",
       "    </tr>\n",
       "  </tbody>\n",
       "</table>\n",
       "</div>"
      ],
      "text/plain": [
       "                      reviews.id  reviews.numHelpful  reviews.rating  \\\n",
       "reviews.id                   NaN                 NaN             NaN   \n",
       "reviews.numHelpful           NaN            1.000000       -0.045199   \n",
       "reviews.rating               NaN           -0.045199        1.000000   \n",
       "reviews.userCity             NaN                 NaN             NaN   \n",
       "reviews.userProvince         NaN                 NaN             NaN   \n",
       "\n",
       "                      reviews.userCity  reviews.userProvince  \n",
       "reviews.id                         NaN                   NaN  \n",
       "reviews.numHelpful                 NaN                   NaN  \n",
       "reviews.rating                     NaN                   NaN  \n",
       "reviews.userCity                   NaN                   NaN  \n",
       "reviews.userProvince               NaN                   NaN  "
      ]
     },
     "execution_count": 36,
     "metadata": {},
     "output_type": "execute_result"
    }
   ],
   "source": [
    "corr_matrix = reviews.corr()\n",
    "corr_matrix"
   ]
  },
  {
   "cell_type": "code",
   "execution_count": 37,
   "id": "4f03d860",
   "metadata": {},
   "outputs": [
    {
     "name": "stdout",
     "output_type": "stream",
     "text": [
      "<class 'pandas.core.frame.DataFrame'>\n",
      "Int64Index: 27701 entries, 2392 to 13901\n",
      "Data columns (total 21 columns):\n",
      " #   Column                Non-Null Count  Dtype  \n",
      "---  ------                --------------  -----  \n",
      " 0   id                    27676 non-null  object \n",
      " 1   name                  22370 non-null  object \n",
      " 2   asins                 27675 non-null  object \n",
      " 3   brand                 27676 non-null  object \n",
      " 4   categories            27676 non-null  object \n",
      " 5   keys                  27676 non-null  object \n",
      " 6   manufacturer          27676 non-null  object \n",
      " 7   reviews.date          27656 non-null  object \n",
      " 8   reviews.dateAdded     19221 non-null  object \n",
      " 9   reviews.dateSeen      27676 non-null  object \n",
      " 10  reviews.didPurchase   1 non-null      object \n",
      " 11  reviews.doRecommend   27245 non-null  object \n",
      " 12  reviews.id            1 non-null      float64\n",
      " 13  reviews.numHelpful    27293 non-null  float64\n",
      " 14  reviews.rating        27676 non-null  float64\n",
      " 15  reviews.sourceURLs    27676 non-null  object \n",
      " 16  reviews.text          27676 non-null  object \n",
      " 17  reviews.title         27672 non-null  object \n",
      " 18  reviews.userCity      0 non-null      float64\n",
      " 19  reviews.userProvince  0 non-null      float64\n",
      " 20  reviews.username      27674 non-null  object \n",
      "dtypes: float64(5), object(16)\n",
      "memory usage: 5.7+ MB\n"
     ]
    }
   ],
   "source": [
    "reviews.info()\n"
   ]
  },
  {
   "cell_type": "code",
   "execution_count": 38,
   "id": "8b582e5d",
   "metadata": {},
   "outputs": [
    {
     "data": {
      "text/html": [
       "<div>\n",
       "<style scoped>\n",
       "    .dataframe tbody tr th:only-of-type {\n",
       "        vertical-align: middle;\n",
       "    }\n",
       "\n",
       "    .dataframe tbody tr th {\n",
       "        vertical-align: top;\n",
       "    }\n",
       "\n",
       "    .dataframe thead th {\n",
       "        text-align: right;\n",
       "    }\n",
       "</style>\n",
       "<table border=\"1\" class=\"dataframe\">\n",
       "  <thead>\n",
       "    <tr style=\"text-align: right;\">\n",
       "      <th></th>\n",
       "      <th>asins</th>\n",
       "    </tr>\n",
       "  </thead>\n",
       "  <tbody>\n",
       "    <tr>\n",
       "      <th>B018Y229OU</th>\n",
       "      <td>8786</td>\n",
       "    </tr>\n",
       "    <tr>\n",
       "      <th>B00L9EPT8O,B01E6AO69U</th>\n",
       "      <td>5328</td>\n",
       "    </tr>\n",
       "    <tr>\n",
       "      <th>B00U3FPN4U</th>\n",
       "      <td>3985</td>\n",
       "    </tr>\n",
       "    <tr>\n",
       "      <th>B00OQVZDJM</th>\n",
       "      <td>2527</td>\n",
       "    </tr>\n",
       "    <tr>\n",
       "      <th>B01AHB9CN2</th>\n",
       "      <td>2286</td>\n",
       "    </tr>\n",
       "  </tbody>\n",
       "</table>\n",
       "</div>"
      ],
      "text/plain": [
       "                       asins\n",
       "B018Y229OU              8786\n",
       "B00L9EPT8O,B01E6AO69U   5328\n",
       "B00U3FPN4U              3985\n",
       "B00OQVZDJM              2527\n",
       "B01AHB9CN2              2286"
      ]
     },
     "execution_count": 38,
     "metadata": {},
     "output_type": "execute_result"
    }
   ],
   "source": [
    "counts = reviews[\"asins\"].value_counts().to_frame()\n",
    "counts.head()\n"
   ]
  },
  {
   "cell_type": "code",
   "execution_count": 39,
   "id": "8330ed18",
   "metadata": {},
   "outputs": [
    {
     "data": {
      "text/html": [
       "<div>\n",
       "<style scoped>\n",
       "    .dataframe tbody tr th:only-of-type {\n",
       "        vertical-align: middle;\n",
       "    }\n",
       "\n",
       "    .dataframe tbody tr th {\n",
       "        vertical-align: top;\n",
       "    }\n",
       "\n",
       "    .dataframe thead th {\n",
       "        text-align: right;\n",
       "    }\n",
       "</style>\n",
       "<table border=\"1\" class=\"dataframe\">\n",
       "  <thead>\n",
       "    <tr style=\"text-align: right;\">\n",
       "      <th></th>\n",
       "      <th>reviews.rating</th>\n",
       "    </tr>\n",
       "    <tr>\n",
       "      <th>asins</th>\n",
       "      <th></th>\n",
       "    </tr>\n",
       "  </thead>\n",
       "  <tbody>\n",
       "    <tr>\n",
       "      <th>B005PB2T0S</th>\n",
       "      <td>4.000000</td>\n",
       "    </tr>\n",
       "    <tr>\n",
       "      <th>B005PB2T2Q</th>\n",
       "      <td>3.500000</td>\n",
       "    </tr>\n",
       "    <tr>\n",
       "      <th>B00DU15MU4</th>\n",
       "      <td>5.000000</td>\n",
       "    </tr>\n",
       "    <tr>\n",
       "      <th>B00IOY8XWQ</th>\n",
       "      <td>4.725702</td>\n",
       "    </tr>\n",
       "    <tr>\n",
       "      <th>B00IOYAM4I</th>\n",
       "      <td>4.837838</td>\n",
       "    </tr>\n",
       "  </tbody>\n",
       "</table>\n",
       "</div>"
      ],
      "text/plain": [
       "            reviews.rating\n",
       "asins                     \n",
       "B005PB2T0S        4.000000\n",
       "B005PB2T2Q        3.500000\n",
       "B00DU15MU4        5.000000\n",
       "B00IOY8XWQ        4.725702\n",
       "B00IOYAM4I        4.837838"
      ]
     },
     "execution_count": 39,
     "metadata": {},
     "output_type": "execute_result"
    }
   ],
   "source": [
    "avg_rating = reviews.groupby(\"asins\")[\"reviews.rating\"].mean().to_frame()\n",
    "avg_rating.head()\n"
   ]
  },
  {
   "cell_type": "code",
   "execution_count": 40,
   "id": "952783b5",
   "metadata": {},
   "outputs": [
    {
     "data": {
      "text/html": [
       "<div>\n",
       "<style scoped>\n",
       "    .dataframe tbody tr th:only-of-type {\n",
       "        vertical-align: middle;\n",
       "    }\n",
       "\n",
       "    .dataframe tbody tr th {\n",
       "        vertical-align: top;\n",
       "    }\n",
       "\n",
       "    .dataframe thead th {\n",
       "        text-align: right;\n",
       "    }\n",
       "</style>\n",
       "<table border=\"1\" class=\"dataframe\">\n",
       "  <thead>\n",
       "    <tr style=\"text-align: right;\">\n",
       "      <th></th>\n",
       "      <th>asins</th>\n",
       "      <th>reviews.rating</th>\n",
       "    </tr>\n",
       "  </thead>\n",
       "  <tbody>\n",
       "    <tr>\n",
       "      <th>B018Y229OU</th>\n",
       "      <td>8786</td>\n",
       "      <td>4.457432</td>\n",
       "    </tr>\n",
       "    <tr>\n",
       "      <th>B00L9EPT8O,B01E6AO69U</th>\n",
       "      <td>5328</td>\n",
       "      <td>4.673611</td>\n",
       "    </tr>\n",
       "    <tr>\n",
       "      <th>B00U3FPN4U</th>\n",
       "      <td>3985</td>\n",
       "      <td>4.707152</td>\n",
       "    </tr>\n",
       "    <tr>\n",
       "      <th>B00OQVZDJM</th>\n",
       "      <td>2527</td>\n",
       "      <td>4.775623</td>\n",
       "    </tr>\n",
       "    <tr>\n",
       "      <th>B01AHB9CN2</th>\n",
       "      <td>2286</td>\n",
       "      <td>4.584864</td>\n",
       "    </tr>\n",
       "    <tr>\n",
       "      <th>B018Y23MNM</th>\n",
       "      <td>1367</td>\n",
       "      <td>4.536942</td>\n",
       "    </tr>\n",
       "    <tr>\n",
       "      <th>B018Y225IA</th>\n",
       "      <td>824</td>\n",
       "      <td>4.492718</td>\n",
       "    </tr>\n",
       "    <tr>\n",
       "      <th>B01BH83OOM</th>\n",
       "      <td>490</td>\n",
       "      <td>4.518367</td>\n",
       "    </tr>\n",
       "    <tr>\n",
       "      <th>B00IOY8XWQ</th>\n",
       "      <td>463</td>\n",
       "      <td>4.725702</td>\n",
       "    </tr>\n",
       "    <tr>\n",
       "      <th>B01J2G4VBG</th>\n",
       "      <td>328</td>\n",
       "      <td>4.408537</td>\n",
       "    </tr>\n",
       "    <tr>\n",
       "      <th>B00TSUGXKE</th>\n",
       "      <td>291</td>\n",
       "      <td>4.436426</td>\n",
       "    </tr>\n",
       "    <tr>\n",
       "      <th>B018SZT3BK</th>\n",
       "      <td>215</td>\n",
       "      <td>4.576744</td>\n",
       "    </tr>\n",
       "    <tr>\n",
       "      <th>B0189XYY0Q</th>\n",
       "      <td>206</td>\n",
       "      <td>4.655340</td>\n",
       "    </tr>\n",
       "    <tr>\n",
       "      <th>B00ZV9PXP2</th>\n",
       "      <td>170</td>\n",
       "      <td>4.547059</td>\n",
       "    </tr>\n",
       "    <tr>\n",
       "      <th>B01AHB9CYG</th>\n",
       "      <td>125</td>\n",
       "      <td>4.568000</td>\n",
       "    </tr>\n",
       "    <tr>\n",
       "      <th>B00QFQRELG</th>\n",
       "      <td>55</td>\n",
       "      <td>4.163636</td>\n",
       "    </tr>\n",
       "    <tr>\n",
       "      <th>B00VINDBJK</th>\n",
       "      <td>54</td>\n",
       "      <td>4.611111</td>\n",
       "    </tr>\n",
       "    <tr>\n",
       "      <th>B00IOYAM4I</th>\n",
       "      <td>37</td>\n",
       "      <td>4.837838</td>\n",
       "    </tr>\n",
       "    <tr>\n",
       "      <th>B01BFIBRIE</th>\n",
       "      <td>26</td>\n",
       "      <td>4.653846</td>\n",
       "    </tr>\n",
       "    <tr>\n",
       "      <th>B00QJDU3KY</th>\n",
       "      <td>15</td>\n",
       "      <td>4.666667</td>\n",
       "    </tr>\n",
       "    <tr>\n",
       "      <th>B01J4ORNHU</th>\n",
       "      <td>14</td>\n",
       "      <td>4.500000</td>\n",
       "    </tr>\n",
       "    <tr>\n",
       "      <th>B00LW9XOJM</th>\n",
       "      <td>12</td>\n",
       "      <td>4.000000</td>\n",
       "    </tr>\n",
       "    <tr>\n",
       "      <th>B00QL1ZN3G</th>\n",
       "      <td>10</td>\n",
       "      <td>2.800000</td>\n",
       "    </tr>\n",
       "    <tr>\n",
       "      <th>B01AHB9C1E</th>\n",
       "      <td>9</td>\n",
       "      <td>4.555556</td>\n",
       "    </tr>\n",
       "    <tr>\n",
       "      <th>B018Y22BI4</th>\n",
       "      <td>9</td>\n",
       "      <td>4.777778</td>\n",
       "    </tr>\n",
       "    <tr>\n",
       "      <th>B00UH4D8G2</th>\n",
       "      <td>8</td>\n",
       "      <td>3.125000</td>\n",
       "    </tr>\n",
       "    <tr>\n",
       "      <th>B018T075DC</th>\n",
       "      <td>7</td>\n",
       "      <td>5.000000</td>\n",
       "    </tr>\n",
       "    <tr>\n",
       "      <th>B005PB2T0S</th>\n",
       "      <td>5</td>\n",
       "      <td>4.000000</td>\n",
       "    </tr>\n",
       "    <tr>\n",
       "      <th>B018Y22C2Y</th>\n",
       "      <td>5</td>\n",
       "      <td>4.800000</td>\n",
       "    </tr>\n",
       "    <tr>\n",
       "      <th>B00REQKWGA</th>\n",
       "      <td>5</td>\n",
       "      <td>4.800000</td>\n",
       "    </tr>\n",
       "  </tbody>\n",
       "</table>\n",
       "</div>"
      ],
      "text/plain": [
       "                       asins  reviews.rating\n",
       "B018Y229OU              8786        4.457432\n",
       "B00L9EPT8O,B01E6AO69U   5328        4.673611\n",
       "B00U3FPN4U              3985        4.707152\n",
       "B00OQVZDJM              2527        4.775623\n",
       "B01AHB9CN2              2286        4.584864\n",
       "B018Y23MNM              1367        4.536942\n",
       "B018Y225IA               824        4.492718\n",
       "B01BH83OOM               490        4.518367\n",
       "B00IOY8XWQ               463        4.725702\n",
       "B01J2G4VBG               328        4.408537\n",
       "B00TSUGXKE               291        4.436426\n",
       "B018SZT3BK               215        4.576744\n",
       "B0189XYY0Q               206        4.655340\n",
       "B00ZV9PXP2               170        4.547059\n",
       "B01AHB9CYG               125        4.568000\n",
       "B00QFQRELG                55        4.163636\n",
       "B00VINDBJK                54        4.611111\n",
       "B00IOYAM4I                37        4.837838\n",
       "B01BFIBRIE                26        4.653846\n",
       "B00QJDU3KY                15        4.666667\n",
       "B01J4ORNHU                14        4.500000\n",
       "B00LW9XOJM                12        4.000000\n",
       "B00QL1ZN3G                10        2.800000\n",
       "B01AHB9C1E                 9        4.555556\n",
       "B018Y22BI4                 9        4.777778\n",
       "B00UH4D8G2                 8        3.125000\n",
       "B018T075DC                 7        5.000000\n",
       "B005PB2T0S                 5        4.000000\n",
       "B018Y22C2Y                 5        4.800000\n",
       "B00REQKWGA                 5        4.800000"
      ]
     },
     "execution_count": 40,
     "metadata": {},
     "output_type": "execute_result"
    }
   ],
   "source": [
    "table = counts.join(avg_rating)\n",
    "table.head(30)\n"
   ]
  },
  {
   "cell_type": "code",
   "execution_count": 41,
   "id": "a4a55101",
   "metadata": {},
   "outputs": [
    {
     "data": {
      "text/html": [
       "<div>\n",
       "<style scoped>\n",
       "    .dataframe tbody tr th:only-of-type {\n",
       "        vertical-align: middle;\n",
       "    }\n",
       "\n",
       "    .dataframe tbody tr th {\n",
       "        vertical-align: top;\n",
       "    }\n",
       "\n",
       "    .dataframe thead th {\n",
       "        text-align: right;\n",
       "    }\n",
       "</style>\n",
       "<table border=\"1\" class=\"dataframe\">\n",
       "  <thead>\n",
       "    <tr style=\"text-align: right;\">\n",
       "      <th></th>\n",
       "      <th>asins</th>\n",
       "      <th>reviews.rating</th>\n",
       "    </tr>\n",
       "  </thead>\n",
       "  <tbody>\n",
       "    <tr>\n",
       "      <th>asins</th>\n",
       "      <td>1.000000</td>\n",
       "      <td>0.105086</td>\n",
       "    </tr>\n",
       "    <tr>\n",
       "      <th>reviews.rating</th>\n",
       "      <td>0.105086</td>\n",
       "      <td>1.000000</td>\n",
       "    </tr>\n",
       "  </tbody>\n",
       "</table>\n",
       "</div>"
      ],
      "text/plain": [
       "                   asins  reviews.rating\n",
       "asins           1.000000        0.105086\n",
       "reviews.rating  0.105086        1.000000"
      ]
     },
     "execution_count": 41,
     "metadata": {},
     "output_type": "execute_result"
    },
    {
     "data": {
      "image/png": "[encoded data removed]",
      "text/plain": [
       "<Figure size 432x288 with 1 Axes>"
      ]
     },
     "metadata": {
      "needs_background": "light"
     },
     "output_type": "display_data"
    }
   ],
   "source": [
    "plt.scatter(\"asins\", \"reviews.rating\", data=table)\n",
    "table.corr()\n"
   ]
  },
  {
   "cell_type": "code",
   "execution_count": 42,
   "id": "8637bfd3",
   "metadata": {},
   "outputs": [
    {
     "data": {
      "text/plain": [
       "2392     Positive\n",
       "29952    Positive\n",
       "34460    Positive\n",
       "894      Positive\n",
       "21255    Positive\n",
       "13529    Positive\n",
       "7911     Positive\n",
       "2226     Negative\n",
       "29356    Positive\n",
       "23758    Negative\n",
       "33926    Positive\n",
       "1845     Positive\n",
       "3169     Positive\n",
       "33888    Positive\n",
       "5848      Neutral\n",
       "31329    Positive\n",
       "17595    Positive\n",
       "11883    Positive\n",
       "5141     Positive\n",
       "18425    Positive\n",
       "Name: Sentiment, dtype: object"
      ]
     },
     "execution_count": 42,
     "metadata": {},
     "output_type": "execute_result"
    }
   ],
   "source": [
    "def sentiments(rating):\n",
    "    if (rating == 5) or (rating == 4):\n",
    "        return \"Positive\"\n",
    "    elif rating == 3:\n",
    "        return \"Neutral\"\n",
    "    elif (rating == 2) or (rating == 1):\n",
    "        return \"Negative\"\n",
    "# Add sentiments to the data\n",
    "strat_train[\"Sentiment\"] = strat_train[\"reviews.rating\"].apply(sentiments)\n",
    "strat_test[\"Sentiment\"] = strat_test[\"reviews.rating\"].apply(sentiments)\n",
    "strat_train[\"Sentiment\"][:20]\n"
   ]
  },
  {
   "cell_type": "code",
   "execution_count": 43,
   "id": "99ab5630",
   "metadata": {},
   "outputs": [
    {
     "name": "stdout",
     "output_type": "stream",
     "text": [
      "27701 6926\n"
     ]
    }
   ],
   "source": [
    "X_train = strat_train[\"reviews.text\"]\n",
    "X_train_targetSentiment = strat_train[\"Sentiment\"]\n",
    "X_test = strat_test[\"reviews.text\"]\n",
    "X_test_targetSentiment = strat_test[\"Sentiment\"]\n",
    "print(len(X_train), len(X_test))"
   ]
  },
  {
   "cell_type": "code",
   "execution_count": 44,
   "id": "67c60c1c",
   "metadata": {},
   "outputs": [
    {
     "data": {
      "text/plain": [
       "(27701, 12525)"
      ]
     },
     "execution_count": 44,
     "metadata": {},
     "output_type": "execute_result"
    }
   ],
   "source": [
    "X_train = X_train.fillna(' ')\n",
    "X_test = X_test.fillna(' ')\n",
    "X_train_targetSentiment = X_train_targetSentiment.fillna(' ')\n",
    "X_test_targetSentiment = X_test_targetSentiment.fillna(' ')\n",
    "\n",
    "# Text preprocessing and occurance counting\n",
    "from sklearn.feature_extraction.text import CountVectorizer \n",
    "count_vect = CountVectorizer()\n",
    "X_train_counts = count_vect.fit_transform(X_train) \n",
    "X_train_counts.shape\n"
   ]
  },
  {
   "cell_type": "code",
   "execution_count": 45,
   "id": "cf07c6d6",
   "metadata": {},
   "outputs": [
    {
     "data": {
      "text/plain": [
       "(27701, 12525)"
      ]
     },
     "execution_count": 45,
     "metadata": {},
     "output_type": "execute_result"
    }
   ],
   "source": [
    "from sklearn.feature_extraction.text import TfidfTransformer\n",
    "tfidf_transformer = TfidfTransformer(use_idf=False)\n",
    "X_train_tfidf = tfidf_transformer.fit_transform(X_train_counts)\n",
    "X_train_tfidf.shape\n"
   ]
  },
  {
   "cell_type": "code",
   "execution_count": 46,
   "id": "74c1322d",
   "metadata": {},
   "outputs": [
    {
     "data": {
      "text/plain": [
       "Pipeline(steps=[('vect', CountVectorizer()), ('tfidf', TfidfTransformer()),\n",
       "                ('clf_nominalNB', MultinomialNB())])"
      ]
     },
     "execution_count": 46,
     "metadata": {},
     "output_type": "execute_result"
    }
   ],
   "source": [
    "from sklearn.naive_bayes import MultinomialNB\n",
    "from sklearn.pipeline import Pipeline\n",
    "clf_multiNB_pipe = Pipeline([(\"vect\", CountVectorizer()), (\"tfidf\", TfidfTransformer()), (\"clf_nominalNB\", MultinomialNB())])\n",
    "clf_multiNB_pipe.fit(X_train, X_train_targetSentiment)"
   ]
  },
  {
   "cell_type": "code",
   "execution_count": 47,
   "id": "e7143f6f",
   "metadata": {},
   "outputs": [
    {
     "data": {
      "text/plain": [
       "0.9301183944556742"
      ]
     },
     "execution_count": 47,
     "metadata": {},
     "output_type": "execute_result"
    }
   ],
   "source": [
    "import numpy as np\n",
    "predictedMultiNB = clf_multiNB_pipe.predict(X_test)\n",
    "np.mean(predictedMultiNB == X_test_targetSentiment)\n"
   ]
  },
  {
   "cell_type": "code",
   "execution_count": 48,
   "id": "0317acbb",
   "metadata": {},
   "outputs": [
    {
     "data": {
      "text/plain": [
       "0.9340167484839734"
      ]
     },
     "execution_count": 48,
     "metadata": {},
     "output_type": "execute_result"
    }
   ],
   "source": [
    "from sklearn.linear_model import LogisticRegression\n",
    "from sklearn.pipeline import Pipeline\n",
    "clf_logReg_pipe = Pipeline([(\"vect\", CountVectorizer()), (\"tfidf\", TfidfTransformer()), (\"clf_logReg\", LogisticRegression())])\n",
    "clf_logReg_pipe.fit(X_train, X_train_targetSentiment)\n",
    "\n",
    "import numpy as np\n",
    "predictedLogReg = clf_logReg_pipe.predict(X_test)\n",
    "np.mean(predictedLogReg == X_test_targetSentiment)\n"
   ]
  },
  {
   "cell_type": "code",
   "execution_count": 49,
   "id": "802ad2ef",
   "metadata": {},
   "outputs": [
    {
     "data": {
      "text/plain": [
       "0.9360381172393878"
      ]
     },
     "execution_count": 49,
     "metadata": {},
     "output_type": "execute_result"
    }
   ],
   "source": [
    "from sklearn.svm import LinearSVC\n",
    "clf_linearSVC_pipe = Pipeline([(\"vect\", CountVectorizer()), (\"tfidf\", TfidfTransformer()), (\"clf_linearSVC\", LinearSVC())])\n",
    "clf_linearSVC_pipe.fit(X_train, X_train_targetSentiment)\n",
    "\n",
    "predictedLinearSVC = clf_linearSVC_pipe.predict(X_test)\n",
    "np.mean(predictedLinearSVC == X_test_targetSentiment)"
   ]
  },
  {
   "cell_type": "code",
   "execution_count": 50,
   "id": "f1888cbe",
   "metadata": {},
   "outputs": [
    {
     "data": {
      "text/plain": [
       "0.8961882760612186"
      ]
     },
     "execution_count": 50,
     "metadata": {},
     "output_type": "execute_result"
    }
   ],
   "source": [
    "from sklearn.tree import DecisionTreeClassifier\n",
    "clf_decisionTree_pipe = Pipeline([(\"vect\", CountVectorizer()), (\"tfidf\", TfidfTransformer()), \n",
    "                                  (\"clf_decisionTree\", DecisionTreeClassifier())])\n",
    "clf_decisionTree_pipe.fit(X_train, X_train_targetSentiment)\n",
    "\n",
    "predictedDecisionTree = clf_decisionTree_pipe.predict(X_test)\n",
    "np.mean(predictedDecisionTree == X_test_targetSentiment)\n"
   ]
  },
  {
   "cell_type": "code",
   "execution_count": 68,
   "id": "9c2e4063",
   "metadata": {},
   "outputs": [
    {
     "data": {
      "text/plain": [
       "0.9318509962460294"
      ]
     },
     "execution_count": 68,
     "metadata": {},
     "output_type": "execute_result"
    }
   ],
   "source": [
    "from sklearn.ensemble import RandomForestClassifier\n",
    "clf_randomForest_pipe = Pipeline([(\"vect\", CountVectorizer()), (\"tfidf\", TfidfTransformer()), (\"clf_randomForest\", RandomForestClassifier())])\n",
    "clf_randomForest_pipe.fit(X_train, X_train_targetSentiment)\n",
    "\n",
    "predictedRandomForest = clf_randomForest_pipe.predict(X_test)\n",
    "np.mean(predictedRandomForest == X_test_targetSentiment)\n"
   ]
  },
  {
   "cell_type": "code",
   "execution_count": 71,
   "id": "bd943983",
   "metadata": {},
   "outputs": [
    {
     "data": {
      "text/plain": [
       "0.936326884204447"
      ]
     },
     "execution_count": 71,
     "metadata": {},
     "output_type": "execute_result"
    }
   ],
   "source": [
    "predictedGS_clf_LinearSVC_pipe = gs_clf_LinearSVC_pipe.predict(X_test)\n",
    "np.mean(predictedGS_clf_LinearSVC_pipe == X_test_targetSentiment)"
   ]
  },
  {
   "cell_type": "markdown",
   "id": "91b61edf",
   "metadata": {},
   "source": [
    "Here we will run a Grid Search of the best parameters on a grid of possible values, instead of tweaking the parameters of various components of the chain (ie. use_idf in tfidftransformer)\n",
    "We will also run the grid search with LinearSVC classifier pipeline, parameters and cpu core maximization\n",
    "Then we will fit the grid search to our training data set\n",
    "Next we will use our final classifier (after fine-tuning) to test some arbitrary reviews\n",
    "Finally we will test the accuracy of our final classifier (after fine-tuning)\n"
   ]
  },
  {
   "cell_type": "code",
   "execution_count": 72,
   "id": "7f0587ad",
   "metadata": {},
   "outputs": [
    {
     "name": "stdout",
     "output_type": "stream",
     "text": [
      "0.9380887796061783\n",
      "Pipeline(steps=[('vect', CountVectorizer(ngram_range=(1, 2))),\n",
      "                ('tfidf', TfidfTransformer(use_idf=False)),\n",
      "                ('clf_linearSVC', LinearSVC())])\n",
      "{'tfidf__use_idf': False, 'vect__ngram_range': (1, 2)}\n"
     ]
    }
   ],
   "source": [
    "for performance_analysis in (gs_clf_LinearSVC_pipe.best_score_, \n",
    "                             gs_clf_LinearSVC_pipe.best_estimator_, \n",
    "                             gs_clf_LinearSVC_pipe.best_params_):\n",
    "        print(performance_analysis)"
   ]
  },
  {
   "cell_type": "markdown",
   "id": "20d6d82b",
   "metadata": {},
   "source": [
    "Here we see that the best mean score of the grid search is 93.65% which is very close to our accuracy level of 94.08%\n",
    "\n",
    "Our best estimator here is also displayed\n",
    "Lastly, our best parameters are true for use_idf in tfidf, and ngram_range between 1,2\n"
   ]
  },
  {
   "cell_type": "code",
   "execution_count": 73,
   "id": "2673683e",
   "metadata": {},
   "outputs": [
    {
     "name": "stdout",
     "output_type": "stream",
     "text": [
      "              precision    recall  f1-score   support\n",
      "\n",
      "                   0.00      0.00      0.00         8\n",
      "    Negative       0.66      0.27      0.39       171\n",
      "     Neutral       0.47      0.09      0.15       305\n",
      "    Positive       0.94      1.00      0.97      6442\n",
      "\n",
      "    accuracy                           0.94      6926\n",
      "   macro avg       0.52      0.34      0.38      6926\n",
      "weighted avg       0.91      0.94      0.92      6926\n",
      "\n",
      "Accuracy: 0.936326884204447\n"
     ]
    }
   ],
   "source": [
    "from sklearn.metrics import classification_report\n",
    "from sklearn.metrics import accuracy_score\n",
    "\n",
    "print(classification_report(X_test_targetSentiment, predictedGS_clf_LinearSVC_pipe))\n",
    "print('Accuracy: {}'. format(accuracy_score(X_test_targetSentiment, predictedGS_clf_LinearSVC_pipe)))"
   ]
  },
  {
   "cell_type": "markdown",
   "id": "391a24ae",
   "metadata": {},
   "source": [
    "Below is the summary of the classification report:\n",
    "\n",
    "Precision: determines how many objects selected were correct\n",
    "Recall: tells you how many of the objects that should have been selected were actually selected\n",
    "F1 score measures the weights of recall and precision (1 means precision and recall are equally important, 0 otherwise)\n",
    "\n",
    "Support is the number of occurrences of each class\n",
    "The results in this analysis confirms our previous data exploration analysis, where the data are very skewed to the positive reviews as shown by the lower support counts in the classification report. Also, both neutral and negative reviews has large standard deviation with small frequencies, which we would not consider significant as shown by the lower precision, recall and F1 scores in the classification report.\n",
    "\n",
    "However, despite that Neutral and Negative results are not very strong predictors in this data set, it still shows a 94.08% accuracy level in predicting the sentiment analysis, which we tested and worked very well when inputting arbitrary text (new_text). Therefore, we are comfortable here with the skewed data set. Also, as we continue to input new dataset in the future that is more balanced, this model will then re-adjust to a more balanced classifier which will increase the accuracy level.\n",
    "\n",
    "Note: The first row will be ignored as we previously replaced all NAN with \" \". We tried to remove this row when we first imported the raw data, but Pandas DataFrame did not like this row removed when we tried to drop all NAN (before stratifying and splitting the dataset). As a result, replacing the NAN with \" \" was the best workaround and the first row will be ignored in this analysis.\n",
    "\n",
    "Finally, the overall result here explains that the products in this dataset are generally positively rated.\n",
    "\n"
   ]
  },
  {
   "cell_type": "code",
   "execution_count": 74,
   "id": "1815f1fd",
   "metadata": {},
   "outputs": [
    {
     "data": {
      "text/plain": [
       "array([[   0,    0,    0,    8],\n",
       "       [   0,   47,   11,  113],\n",
       "       [   0,   13,   28,  264],\n",
       "       [   0,   11,   21, 6410]], dtype=int64)"
      ]
     },
     "execution_count": 74,
     "metadata": {},
     "output_type": "execute_result"
    }
   ],
   "source": [
    "from sklearn import metrics\n",
    "metrics.confusion_matrix(X_test_targetSentiment, predictedGS_clf_LinearSVC_pipe)\n"
   ]
  },
  {
   "cell_type": "markdown",
   "id": "b77e40ce",
   "metadata": {},
   "source": [
    "As a result, we need to input more data in order to consider the significance of lower rated product, in order to determine which products should be dropped from Amazon's product roster.\n",
    "\n",
    "The good news is that despite the skewed dataset, we were still able to build a robust Sentiment Analysis machine learning system to determine if the reviews are positive or negative. This is possible as the machine learning system was able to learn from all the positive, neutral and negative reviews, and fine tune the algorithm in order to avoid bias sentiments.\n",
    "\n",
    "In conclusion, although we need more data to balance out the lower rated products to consider their significance, however we were still able to successfully associate positive, neutral and negative sentiments for each product in Amazon's Catalog."
   ]
  },
  {
   "cell_type": "code",
   "execution_count": null,
   "id": "175910f2",
   "metadata": {},
   "outputs": [],
   "source": []
  }
 ],
 "metadata": {
  "kernelspec": {
   "display_name": "Python 3",
   "language": "python",
   "name": "python3"
  },
  "language_info": {
   "codemirror_mode": {
    "name": "ipython",
    "version": 3
   },
   "file_extension": ".py",
   "mimetype": "text/x-python",
   "name": "python",
   "nbconvert_exporter": "python",
   "pygments_lexer": "ipython3",
   "version": "3.8.8"
  }
 },
 "nbformat": 4,
 "nbformat_minor": 5
}
