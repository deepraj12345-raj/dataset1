{
 "cells": [
  {
   "cell_type": "raw",
   "id": "6ed310fc",
   "metadata": {},
   "source": [
    "COMMENT CLASSIFICATION\n",
    "1.Import necessary files\n",
    "2.Read the train.csv file\n"
   ]
  },
  {
   "cell_type": "code",
   "execution_count": 1,
   "id": "7322340d",
   "metadata": {},
   "outputs": [],
   "source": [
    "import warnings\n",
    "warnings.filterwarnings('ignore')\n"
   ]
  },
  {
   "cell_type": "code",
   "execution_count": 2,
   "id": "cc5305cc",
   "metadata": {},
   "outputs": [],
   "source": [
    "import numpy as np\n",
    "import pandas as pd\n",
    "import matplotlib.pyplot as plt\n",
    "import seaborn as sns"
   ]
  },
  {
   "cell_type": "code",
   "execution_count": 3,
   "id": "0888faf5",
   "metadata": {},
   "outputs": [
    {
     "data": {
      "text/html": [
       "<div>\n",
       "<style scoped>\n",
       "    .dataframe tbody tr th:only-of-type {\n",
       "        vertical-align: middle;\n",
       "    }\n",
       "\n",
       "    .dataframe tbody tr th {\n",
       "        vertical-align: top;\n",
       "    }\n",
       "\n",
       "    .dataframe thead th {\n",
       "        text-align: right;\n",
       "    }\n",
       "</style>\n",
       "<table border=\"1\" class=\"dataframe\">\n",
       "  <thead>\n",
       "    <tr style=\"text-align: right;\">\n",
       "      <th></th>\n",
       "      <th>id</th>\n",
       "      <th>comment_text</th>\n",
       "      <th>malignant</th>\n",
       "      <th>highly_malignant</th>\n",
       "      <th>rude</th>\n",
       "      <th>threat</th>\n",
       "      <th>abuse</th>\n",
       "      <th>loathe</th>\n",
       "    </tr>\n",
       "  </thead>\n",
       "  <tbody>\n",
       "    <tr>\n",
       "      <th>0</th>\n",
       "      <td>0000997932d777bf</td>\n",
       "      <td>Explanation\\nWhy the edits made under my usern...</td>\n",
       "      <td>0</td>\n",
       "      <td>0</td>\n",
       "      <td>0</td>\n",
       "      <td>0</td>\n",
       "      <td>0</td>\n",
       "      <td>0</td>\n",
       "    </tr>\n",
       "    <tr>\n",
       "      <th>1</th>\n",
       "      <td>000103f0d9cfb60f</td>\n",
       "      <td>D'aww! He matches this background colour I'm s...</td>\n",
       "      <td>0</td>\n",
       "      <td>0</td>\n",
       "      <td>0</td>\n",
       "      <td>0</td>\n",
       "      <td>0</td>\n",
       "      <td>0</td>\n",
       "    </tr>\n",
       "    <tr>\n",
       "      <th>2</th>\n",
       "      <td>000113f07ec002fd</td>\n",
       "      <td>Hey man, I'm really not trying to edit war. It...</td>\n",
       "      <td>0</td>\n",
       "      <td>0</td>\n",
       "      <td>0</td>\n",
       "      <td>0</td>\n",
       "      <td>0</td>\n",
       "      <td>0</td>\n",
       "    </tr>\n",
       "    <tr>\n",
       "      <th>3</th>\n",
       "      <td>0001b41b1c6bb37e</td>\n",
       "      <td>\"\\nMore\\nI can't make any real suggestions on ...</td>\n",
       "      <td>0</td>\n",
       "      <td>0</td>\n",
       "      <td>0</td>\n",
       "      <td>0</td>\n",
       "      <td>0</td>\n",
       "      <td>0</td>\n",
       "    </tr>\n",
       "    <tr>\n",
       "      <th>4</th>\n",
       "      <td>0001d958c54c6e35</td>\n",
       "      <td>You, sir, are my hero. Any chance you remember...</td>\n",
       "      <td>0</td>\n",
       "      <td>0</td>\n",
       "      <td>0</td>\n",
       "      <td>0</td>\n",
       "      <td>0</td>\n",
       "      <td>0</td>\n",
       "    </tr>\n",
       "  </tbody>\n",
       "</table>\n",
       "</div>"
      ],
      "text/plain": [
       "                 id                                       comment_text  \\\n",
       "0  0000997932d777bf  Explanation\\nWhy the edits made under my usern...   \n",
       "1  000103f0d9cfb60f  D'aww! He matches this background colour I'm s...   \n",
       "2  000113f07ec002fd  Hey man, I'm really not trying to edit war. It...   \n",
       "3  0001b41b1c6bb37e  \"\\nMore\\nI can't make any real suggestions on ...   \n",
       "4  0001d958c54c6e35  You, sir, are my hero. Any chance you remember...   \n",
       "\n",
       "   malignant  highly_malignant  rude  threat  abuse  loathe  \n",
       "0          0                 0     0       0      0       0  \n",
       "1          0                 0     0       0      0       0  \n",
       "2          0                 0     0       0      0       0  \n",
       "3          0                 0     0       0      0       0  \n",
       "4          0                 0     0       0      0       0  "
      ]
     },
     "execution_count": 3,
     "metadata": {},
     "output_type": "execute_result"
    }
   ],
   "source": [
    "df=pd.read_csv(\"C:\\\\Users\\\\Lenovo\\\\Downloads\\\\Malignant Comments Classifier Project\\\\train.csv\")\n",
    "df.head()\n"
   ]
  },
  {
   "cell_type": "code",
   "execution_count": 4,
   "id": "5d2baa5b",
   "metadata": {},
   "outputs": [
    {
     "data": {
      "text/plain": [
       "(159571, 8)"
      ]
     },
     "execution_count": 4,
     "metadata": {},
     "output_type": "execute_result"
    }
   ],
   "source": [
    "df.shape\n"
   ]
  },
  {
   "cell_type": "code",
   "execution_count": 5,
   "id": "c909a591",
   "metadata": {},
   "outputs": [
    {
     "name": "stdout",
     "output_type": "stream",
     "text": [
      "id                  object\n",
      "comment_text        object\n",
      "malignant            int64\n",
      "highly_malignant     int64\n",
      "rude                 int64\n",
      "threat               int64\n",
      "abuse                int64\n",
      "loathe               int64\n",
      "dtype: object\n"
     ]
    }
   ],
   "source": [
    "#List the fields in our dataframe\n",
    "print(df.dtypes)"
   ]
  },
  {
   "cell_type": "markdown",
   "id": "fa4eb5cf",
   "metadata": {},
   "source": [
    "It was observed that running train_test_split on the heavy preprocessed dataframe sometimes \n",
    "resulted in system going out of memory. Hence to avoid such cases, one extra line of code was added. \n",
    "The df.reindex code will shuffle the indices initially, so that later splitting dataset into training and \n",
    "testing will give fairer results."
   ]
  },
  {
   "cell_type": "code",
   "execution_count": 6,
   "id": "f432bfae",
   "metadata": {},
   "outputs": [],
   "source": [
    "df = df.reindex(np.random.permutation(df.index))\n"
   ]
  },
  {
   "cell_type": "markdown",
   "id": "92a77f9d",
   "metadata": {},
   "source": [
    "# Separate the comment field data and outcome labels\n"
   ]
  },
  {
   "cell_type": "code",
   "execution_count": 7,
   "id": "11051508",
   "metadata": {},
   "outputs": [
    {
     "name": "stdout",
     "output_type": "stream",
     "text": [
      "132723    \"\\n\\nYou made an identical post on Talk:Histor...\n",
      "96538     Pete, you don't have a right to revert simply ...\n",
      "119309    That was a statement to every one of you. All ...\n",
      "80844     Not Prince\\n\\nYakub Alemsah is not sourced as ...\n",
      "5217      \"::Skookum1 2nd note: about the above.  There'...\n",
      "Name: comment_text, dtype: object\n"
     ]
    }
   ],
   "source": [
    "comment = df['comment_text']\n",
    "print(comment.head())\n"
   ]
  },
  {
   "cell_type": "code",
   "execution_count": 8,
   "id": "79093616",
   "metadata": {},
   "outputs": [
    {
     "name": "stdout",
     "output_type": "stream",
     "text": [
      "                                             comment_text  malignant  \\\n",
      "132723  \"\\n\\nYou made an identical post on Talk:Histor...          0   \n",
      "96538   Pete, you don't have a right to revert simply ...          0   \n",
      "119309  That was a statement to every one of you. All ...          0   \n",
      "80844   Not Prince\\n\\nYakub Alemsah is not sourced as ...          0   \n",
      "5217    \"::Skookum1 2nd note: about the above.  There'...          0   \n",
      "\n",
      "        highly_malignant  rude  threat  abuse  loathe  \n",
      "132723                 0     0       0      0       0  \n",
      "96538                  0     0       0      0       0  \n",
      "119309                 0     0       0      0       0  \n",
      "80844                  0     0       0      0       0  \n",
      "5217                   0     0       0      0       0  \n"
     ]
    }
   ],
   "source": [
    "label = df[['comment_text', 'malignant' , 'highly_malignant' , 'rude' , 'threat' , 'abuse','loathe']]\n",
    "print(label.head())\n"
   ]
  },
  {
   "cell_type": "markdown",
   "id": "15bea130",
   "metadata": {},
   "source": [
    "# Data Visualisations\n",
    "\n",
    "Let us analyse the no. of comments having lengths varying from 0 to 1200\n"
   ]
  },
  {
   "cell_type": "code",
   "execution_count": 9,
   "id": "39661686",
   "metadata": {},
   "outputs": [
    {
     "name": "stdout",
     "output_type": "stream",
     "text": [
      "average length of comment: 394.139\n"
     ]
    },
    {
     "data": {
      "image/png": "[encoded data removed]",
      "text/plain": [
       "<Figure size 432x288 with 1 Axes>"
      ]
     },
     "metadata": {
      "needs_background": "light"
     },
     "output_type": "display_data"
    }
   ],
   "source": [
    "x = [len(comment[i]) for i in range(comment.shape[0])]\n",
    "\n",
    "print('average length of comment: {:.3f}'.format(sum(x)/len(x)) )\n",
    "bins = [1,200,400,600,800,1000,1200]\n",
    "plt.hist(x, bins=bins)\n",
    "plt.xlabel('Length of comments')\n",
    "plt.ylabel('Number of comments')       \n",
    "plt.axis([0, 1200, 0, 90000])\n",
    "plt.grid(True)\n",
    "plt.show()\n"
   ]
  },
  {
   "cell_type": "markdown",
   "id": "2aa31cf2",
   "metadata": {},
   "source": [
    "Number of comments classified as abuse,abuse,....etc depending on their lengths\n"
   ]
  },
  {
   "cell_type": "code",
   "execution_count": 10,
   "id": "56d9c3bd",
   "metadata": {},
   "outputs": [
    {
     "data": {
      "text/plain": [
       "[<matplotlib.lines.Line2D at 0x25788b34fa0>]"
      ]
     },
     "execution_count": 10,
     "metadata": {},
     "output_type": "execute_result"
    },
    {
     "data": {
      "image/png": "[encoded data removed]",
      "text/plain": [
       "<Figure size 720x720 with 1 Axes>"
      ]
     },
     "metadata": {
      "needs_background": "light"
     },
     "output_type": "display_data"
    }
   ],
   "source": [
    "plt.figure(figsize=(10,10))\n",
    "plt.plot(df['abuse'], df['highly_malignant'])\n"
   ]
  },
  {
   "cell_type": "code",
   "execution_count": 11,
   "id": "a22fdecf",
   "metadata": {},
   "outputs": [
    {
     "data": {
      "text/plain": [
       "[<matplotlib.lines.Line2D at 0x25788b97d00>]"
      ]
     },
     "execution_count": 11,
     "metadata": {},
     "output_type": "execute_result"
    },
    {
     "data": {
      "image/png": "[encoded data removed]",
      "text/plain": [
       "<Figure size 720x720 with 1 Axes>"
      ]
     },
     "metadata": {
      "needs_background": "light"
     },
     "output_type": "display_data"
    }
   ],
   "source": [
    "plt.figure(figsize=(10,10))\n",
    "plt.plot(df['abuse'], df['rude'])\n"
   ]
  },
  {
   "cell_type": "code",
   "execution_count": 12,
   "id": "12e21b5e",
   "metadata": {},
   "outputs": [
    {
     "data": {
      "text/plain": [
       "(array([0, 1]), [Text(0, 0, '0'), Text(1, 0, '1')])"
      ]
     },
     "execution_count": 12,
     "metadata": {},
     "output_type": "execute_result"
    },
    {
     "data": {
      "image/png": "[encoded data removed]",
      "text/plain": [
       "<Figure size 1800x864 with 1 Axes>"
      ]
     },
     "metadata": {
      "needs_background": "light"
     },
     "output_type": "display_data"
    }
   ],
   "source": [
    "plt.figure(figsize=[25,12])\n",
    "sns.countplot(x = 'abuse', data = df)\n",
    "plt.xticks(rotation = 45)\n"
   ]
  },
  {
   "cell_type": "code",
   "execution_count": 13,
   "id": "2e963446",
   "metadata": {},
   "outputs": [
    {
     "data": {
      "text/plain": [
       "(array([0, 1]), [Text(0, 0, '0'), Text(1, 0, '1')])"
      ]
     },
     "execution_count": 13,
     "metadata": {},
     "output_type": "execute_result"
    },
    {
     "data": {
      "image/png": "[encoded data removed]",
      "text/plain": [
       "<Figure size 1800x864 with 1 Axes>"
      ]
     },
     "metadata": {
      "needs_background": "light"
     },
     "output_type": "display_data"
    }
   ],
   "source": [
    "plt.figure(figsize=[25,12])\n",
    "sns.countplot(x = 'rude', data = df)\n",
    "plt.xticks(rotation = 45)"
   ]
  },
  {
   "cell_type": "code",
   "execution_count": 14,
   "id": "692214a4",
   "metadata": {},
   "outputs": [
    {
     "data": {
      "text/html": [
       "<div>\n",
       "<style scoped>\n",
       "    .dataframe tbody tr th:only-of-type {\n",
       "        vertical-align: middle;\n",
       "    }\n",
       "\n",
       "    .dataframe tbody tr th {\n",
       "        vertical-align: top;\n",
       "    }\n",
       "\n",
       "    .dataframe thead th {\n",
       "        text-align: right;\n",
       "    }\n",
       "</style>\n",
       "<table border=\"1\" class=\"dataframe\">\n",
       "  <thead>\n",
       "    <tr style=\"text-align: right;\">\n",
       "      <th></th>\n",
       "      <th>rude</th>\n",
       "      <th>comment_text</th>\n",
       "    </tr>\n",
       "  </thead>\n",
       "  <tbody>\n",
       "    <tr>\n",
       "      <th>132723</th>\n",
       "      <td>0</td>\n",
       "      <td>\"\\n\\nYou made an identical post on Talk:Histor...</td>\n",
       "    </tr>\n",
       "    <tr>\n",
       "      <th>96538</th>\n",
       "      <td>0</td>\n",
       "      <td>Pete, you don't have a right to revert simply ...</td>\n",
       "    </tr>\n",
       "    <tr>\n",
       "      <th>119309</th>\n",
       "      <td>0</td>\n",
       "      <td>That was a statement to every one of you. All ...</td>\n",
       "    </tr>\n",
       "    <tr>\n",
       "      <th>80844</th>\n",
       "      <td>0</td>\n",
       "      <td>Not Prince\\n\\nYakub Alemsah is not sourced as ...</td>\n",
       "    </tr>\n",
       "    <tr>\n",
       "      <th>5217</th>\n",
       "      <td>0</td>\n",
       "      <td>\"::Skookum1 2nd note: about the above.  There'...</td>\n",
       "    </tr>\n",
       "    <tr>\n",
       "      <th>...</th>\n",
       "      <td>...</td>\n",
       "      <td>...</td>\n",
       "    </tr>\n",
       "    <tr>\n",
       "      <th>75610</th>\n",
       "      <td>0</td>\n",
       "      <td>Truce\\nAlthough it is clear that we have not g...</td>\n",
       "    </tr>\n",
       "    <tr>\n",
       "      <th>107961</th>\n",
       "      <td>0</td>\n",
       "      <td>\"\\nWhat gadfium is quietly ignoring is that fa...</td>\n",
       "    </tr>\n",
       "    <tr>\n",
       "      <th>137348</th>\n",
       "      <td>0</td>\n",
       "      <td>I have added you to Missing Wikipedians \\n\\nJu...</td>\n",
       "    </tr>\n",
       "    <tr>\n",
       "      <th>1194</th>\n",
       "      <td>0</td>\n",
       "      <td>\"\\n\\n Your most excellent presence is requeste...</td>\n",
       "    </tr>\n",
       "    <tr>\n",
       "      <th>112735</th>\n",
       "      <td>0</td>\n",
       "      <td>Byzantine stuff \\n\\nHello Attilios! First, tha...</td>\n",
       "    </tr>\n",
       "  </tbody>\n",
       "</table>\n",
       "<p>159571 rows × 2 columns</p>\n",
       "</div>"
      ],
      "text/plain": [
       "        rude                                       comment_text\n",
       "132723     0  \"\\n\\nYou made an identical post on Talk:Histor...\n",
       "96538      0  Pete, you don't have a right to revert simply ...\n",
       "119309     0  That was a statement to every one of you. All ...\n",
       "80844      0  Not Prince\\n\\nYakub Alemsah is not sourced as ...\n",
       "5217       0  \"::Skookum1 2nd note: about the above.  There'...\n",
       "...      ...                                                ...\n",
       "75610      0  Truce\\nAlthough it is clear that we have not g...\n",
       "107961     0  \"\\nWhat gadfium is quietly ignoring is that fa...\n",
       "137348     0  I have added you to Missing Wikipedians \\n\\nJu...\n",
       "1194       0  \"\\n\\n Your most excellent presence is requeste...\n",
       "112735     0  Byzantine stuff \\n\\nHello Attilios! First, tha...\n",
       "\n",
       "[159571 rows x 2 columns]"
      ]
     },
     "execution_count": 14,
     "metadata": {},
     "output_type": "execute_result"
    }
   ],
   "source": [
    "prophet_df = df[['rude', 'comment_text']]\n",
    "prophet_df"
   ]
  },
  {
   "cell_type": "code",
   "execution_count": 15,
   "id": "9063a9f8",
   "metadata": {},
   "outputs": [
    {
     "data": {
      "text/html": [
       "<div>\n",
       "<style scoped>\n",
       "    .dataframe tbody tr th:only-of-type {\n",
       "        vertical-align: middle;\n",
       "    }\n",
       "\n",
       "    .dataframe tbody tr th {\n",
       "        vertical-align: top;\n",
       "    }\n",
       "\n",
       "    .dataframe thead th {\n",
       "        text-align: right;\n",
       "    }\n",
       "</style>\n",
       "<table border=\"1\" class=\"dataframe\">\n",
       "  <thead>\n",
       "    <tr style=\"text-align: right;\">\n",
       "      <th></th>\n",
       "      <th>comment_text</th>\n",
       "      <th>comment_text</th>\n",
       "    </tr>\n",
       "  </thead>\n",
       "  <tbody>\n",
       "    <tr>\n",
       "      <th>132723</th>\n",
       "      <td>0</td>\n",
       "      <td>\"\\n\\nYou made an identical post on Talk:Histor...</td>\n",
       "    </tr>\n",
       "    <tr>\n",
       "      <th>96538</th>\n",
       "      <td>0</td>\n",
       "      <td>Pete, you don't have a right to revert simply ...</td>\n",
       "    </tr>\n",
       "    <tr>\n",
       "      <th>119309</th>\n",
       "      <td>0</td>\n",
       "      <td>That was a statement to every one of you. All ...</td>\n",
       "    </tr>\n",
       "    <tr>\n",
       "      <th>80844</th>\n",
       "      <td>0</td>\n",
       "      <td>Not Prince\\n\\nYakub Alemsah is not sourced as ...</td>\n",
       "    </tr>\n",
       "    <tr>\n",
       "      <th>5217</th>\n",
       "      <td>0</td>\n",
       "      <td>\"::Skookum1 2nd note: about the above.  There'...</td>\n",
       "    </tr>\n",
       "    <tr>\n",
       "      <th>...</th>\n",
       "      <td>...</td>\n",
       "      <td>...</td>\n",
       "    </tr>\n",
       "    <tr>\n",
       "      <th>75610</th>\n",
       "      <td>0</td>\n",
       "      <td>Truce\\nAlthough it is clear that we have not g...</td>\n",
       "    </tr>\n",
       "    <tr>\n",
       "      <th>107961</th>\n",
       "      <td>0</td>\n",
       "      <td>\"\\nWhat gadfium is quietly ignoring is that fa...</td>\n",
       "    </tr>\n",
       "    <tr>\n",
       "      <th>137348</th>\n",
       "      <td>0</td>\n",
       "      <td>I have added you to Missing Wikipedians \\n\\nJu...</td>\n",
       "    </tr>\n",
       "    <tr>\n",
       "      <th>1194</th>\n",
       "      <td>0</td>\n",
       "      <td>\"\\n\\n Your most excellent presence is requeste...</td>\n",
       "    </tr>\n",
       "    <tr>\n",
       "      <th>112735</th>\n",
       "      <td>0</td>\n",
       "      <td>Byzantine stuff \\n\\nHello Attilios! First, tha...</td>\n",
       "    </tr>\n",
       "  </tbody>\n",
       "</table>\n",
       "<p>159571 rows × 2 columns</p>\n",
       "</div>"
      ],
      "text/plain": [
       "       comment_text                                       comment_text\n",
       "132723            0  \"\\n\\nYou made an identical post on Talk:Histor...\n",
       "96538             0  Pete, you don't have a right to revert simply ...\n",
       "119309            0  That was a statement to every one of you. All ...\n",
       "80844             0  Not Prince\\n\\nYakub Alemsah is not sourced as ...\n",
       "5217              0  \"::Skookum1 2nd note: about the above.  There'...\n",
       "...             ...                                                ...\n",
       "75610             0  Truce\\nAlthough it is clear that we have not g...\n",
       "107961            0  \"\\nWhat gadfium is quietly ignoring is that fa...\n",
       "137348            0  I have added you to Missing Wikipedians \\n\\nJu...\n",
       "1194              0  \"\\n\\n Your most excellent presence is requeste...\n",
       "112735            0  Byzantine stuff \\n\\nHello Attilios! First, tha...\n",
       "\n",
       "[159571 rows x 2 columns]"
      ]
     },
     "execution_count": 15,
     "metadata": {},
     "output_type": "execute_result"
    }
   ],
   "source": [
    "prophet_df = prophet_df.rename(columns={'rude':'comment_text', 'malignant':'y'})\n",
    "prophet_df\n"
   ]
  },
  {
   "cell_type": "code",
   "execution_count": 16,
   "id": "94bbaf0a",
   "metadata": {},
   "outputs": [
    {
     "data": {
      "text/html": [
       "<div>\n",
       "<style scoped>\n",
       "    .dataframe tbody tr th:only-of-type {\n",
       "        vertical-align: middle;\n",
       "    }\n",
       "\n",
       "    .dataframe tbody tr th {\n",
       "        vertical-align: top;\n",
       "    }\n",
       "\n",
       "    .dataframe thead th {\n",
       "        text-align: right;\n",
       "    }\n",
       "</style>\n",
       "<table border=\"1\" class=\"dataframe\">\n",
       "  <thead>\n",
       "    <tr style=\"text-align: right;\">\n",
       "      <th></th>\n",
       "      <th>id</th>\n",
       "      <th>comment_text</th>\n",
       "      <th>malignant</th>\n",
       "      <th>highly_malignant</th>\n",
       "      <th>rude</th>\n",
       "      <th>threat</th>\n",
       "      <th>abuse</th>\n",
       "      <th>loathe</th>\n",
       "    </tr>\n",
       "  </thead>\n",
       "  <tbody>\n",
       "    <tr>\n",
       "      <th>132723</th>\n",
       "      <td>c61995b4d06ad45e</td>\n",
       "      <td>\"\\n\\nYou made an identical post on Talk:Histor...</td>\n",
       "      <td>0</td>\n",
       "      <td>0</td>\n",
       "      <td>0</td>\n",
       "      <td>0</td>\n",
       "      <td>0</td>\n",
       "      <td>0</td>\n",
       "    </tr>\n",
       "    <tr>\n",
       "      <th>96538</th>\n",
       "      <td>045a46f2b2dae67f</td>\n",
       "      <td>Pete, you don't have a right to revert simply ...</td>\n",
       "      <td>0</td>\n",
       "      <td>0</td>\n",
       "      <td>0</td>\n",
       "      <td>0</td>\n",
       "      <td>0</td>\n",
       "      <td>0</td>\n",
       "    </tr>\n",
       "    <tr>\n",
       "      <th>119309</th>\n",
       "      <td>7dd6ae9835b8fae7</td>\n",
       "      <td>That was a statement to every one of you. All ...</td>\n",
       "      <td>0</td>\n",
       "      <td>0</td>\n",
       "      <td>0</td>\n",
       "      <td>0</td>\n",
       "      <td>0</td>\n",
       "      <td>0</td>\n",
       "    </tr>\n",
       "    <tr>\n",
       "      <th>80844</th>\n",
       "      <td>d8419b3f9c29dadb</td>\n",
       "      <td>Not Prince\\n\\nYakub Alemsah is not sourced as ...</td>\n",
       "      <td>0</td>\n",
       "      <td>0</td>\n",
       "      <td>0</td>\n",
       "      <td>0</td>\n",
       "      <td>0</td>\n",
       "      <td>0</td>\n",
       "    </tr>\n",
       "    <tr>\n",
       "      <th>5217</th>\n",
       "      <td>0de402ca99c5685d</td>\n",
       "      <td>\"::Skookum1 2nd note: about the above.  There'...</td>\n",
       "      <td>0</td>\n",
       "      <td>0</td>\n",
       "      <td>0</td>\n",
       "      <td>0</td>\n",
       "      <td>0</td>\n",
       "      <td>0</td>\n",
       "    </tr>\n",
       "    <tr>\n",
       "      <th>...</th>\n",
       "      <td>...</td>\n",
       "      <td>...</td>\n",
       "      <td>...</td>\n",
       "      <td>...</td>\n",
       "      <td>...</td>\n",
       "      <td>...</td>\n",
       "      <td>...</td>\n",
       "      <td>...</td>\n",
       "    </tr>\n",
       "    <tr>\n",
       "      <th>75610</th>\n",
       "      <td>ca4b6bf1d23a8729</td>\n",
       "      <td>Truce\\nAlthough it is clear that we have not g...</td>\n",
       "      <td>0</td>\n",
       "      <td>0</td>\n",
       "      <td>0</td>\n",
       "      <td>0</td>\n",
       "      <td>0</td>\n",
       "      <td>0</td>\n",
       "    </tr>\n",
       "    <tr>\n",
       "      <th>107961</th>\n",
       "      <td>4116f8e0a35e5c08</td>\n",
       "      <td>\"\\nWhat gadfium is quietly ignoring is that fa...</td>\n",
       "      <td>0</td>\n",
       "      <td>0</td>\n",
       "      <td>0</td>\n",
       "      <td>0</td>\n",
       "      <td>0</td>\n",
       "      <td>0</td>\n",
       "    </tr>\n",
       "    <tr>\n",
       "      <th>137348</th>\n",
       "      <td>ded80242236b1e01</td>\n",
       "      <td>I have added you to Missing Wikipedians \\n\\nJu...</td>\n",
       "      <td>0</td>\n",
       "      <td>0</td>\n",
       "      <td>0</td>\n",
       "      <td>0</td>\n",
       "      <td>0</td>\n",
       "      <td>0</td>\n",
       "    </tr>\n",
       "    <tr>\n",
       "      <th>1194</th>\n",
       "      <td>033984ba759fad61</td>\n",
       "      <td>\"\\n\\n Your most excellent presence is requeste...</td>\n",
       "      <td>0</td>\n",
       "      <td>0</td>\n",
       "      <td>0</td>\n",
       "      <td>0</td>\n",
       "      <td>0</td>\n",
       "      <td>0</td>\n",
       "    </tr>\n",
       "    <tr>\n",
       "      <th>112735</th>\n",
       "      <td>5b1bff1949cfeec9</td>\n",
       "      <td>Byzantine stuff \\n\\nHello Attilios! First, tha...</td>\n",
       "      <td>0</td>\n",
       "      <td>0</td>\n",
       "      <td>0</td>\n",
       "      <td>0</td>\n",
       "      <td>0</td>\n",
       "      <td>0</td>\n",
       "    </tr>\n",
       "  </tbody>\n",
       "</table>\n",
       "<p>159571 rows × 8 columns</p>\n",
       "</div>"
      ],
      "text/plain": [
       "                      id                                       comment_text  \\\n",
       "132723  c61995b4d06ad45e  \"\\n\\nYou made an identical post on Talk:Histor...   \n",
       "96538   045a46f2b2dae67f  Pete, you don't have a right to revert simply ...   \n",
       "119309  7dd6ae9835b8fae7  That was a statement to every one of you. All ...   \n",
       "80844   d8419b3f9c29dadb  Not Prince\\n\\nYakub Alemsah is not sourced as ...   \n",
       "5217    0de402ca99c5685d  \"::Skookum1 2nd note: about the above.  There'...   \n",
       "...                  ...                                                ...   \n",
       "75610   ca4b6bf1d23a8729  Truce\\nAlthough it is clear that we have not g...   \n",
       "107961  4116f8e0a35e5c08  \"\\nWhat gadfium is quietly ignoring is that fa...   \n",
       "137348  ded80242236b1e01  I have added you to Missing Wikipedians \\n\\nJu...   \n",
       "1194    033984ba759fad61  \"\\n\\n Your most excellent presence is requeste...   \n",
       "112735  5b1bff1949cfeec9  Byzantine stuff \\n\\nHello Attilios! First, tha...   \n",
       "\n",
       "        malignant  highly_malignant  rude  threat  abuse  loathe  \n",
       "132723          0                 0     0       0      0       0  \n",
       "96538           0                 0     0       0      0       0  \n",
       "119309          0                 0     0       0      0       0  \n",
       "80844           0                 0     0       0      0       0  \n",
       "5217            0                 0     0       0      0       0  \n",
       "...           ...               ...   ...     ...    ...     ...  \n",
       "75610           0                 0     0       0      0       0  \n",
       "107961          0                 0     0       0      0       0  \n",
       "137348          0                 0     0       0      0       0  \n",
       "1194            0                 0     0       0      0       0  \n",
       "112735          0                 0     0       0      0       0  \n",
       "\n",
       "[159571 rows x 8 columns]"
      ]
     },
     "execution_count": 16,
     "metadata": {},
     "output_type": "execute_result"
    }
   ],
   "source": [
    "df"
   ]
  },
  {
   "cell_type": "code",
   "execution_count": 17,
   "id": "06bccd35",
   "metadata": {},
   "outputs": [
    {
     "data": {
      "text/plain": [
       "<AxesSubplot:>"
      ]
     },
     "execution_count": 17,
     "metadata": {},
     "output_type": "execute_result"
    },
    {
     "data": {
      "image/png": "[encoded data removed]",
      "text/plain": [
       "<Figure size 1008x576 with 2 Axes>"
      ]
     },
     "metadata": {
      "needs_background": "light"
     },
     "output_type": "display_data"
    }
   ],
   "source": [
    "correlation = df.corr()\n",
    "plt.figure(figsize=(14, 8))\n",
    "sns.heatmap(correlation, annot=True, linewidths=0, vmin=-1, cmap=\"RdBu_r\")\n"
   ]
  },
  {
   "cell_type": "markdown",
   "id": "e11a5260",
   "metadata": {},
   "source": [
    "\n",
    "# Free Form Visualisation\n",
    "Let us have a plot showing the hamming-loss and log-loss of different models, which we selected.\n",
    "\n"
   ]
  },
  {
   "cell_type": "code",
   "execution_count": 26,
   "id": "0899415e",
   "metadata": {},
   "outputs": [],
   "source": [
    "import matplotlib.pyplot as plt\n",
    "import numpy as np\n",
    "import matplotlib.cm as cm\n",
    "import itertools\n"
   ]
  },
  {
   "cell_type": "code",
   "execution_count": 27,
   "id": "98131539",
   "metadata": {},
   "outputs": [
    {
     "data": {
      "image/png": "[encoded data removed]",
      "text/plain": [
       "<Figure size 432x288 with 1 Axes>"
      ]
     },
     "metadata": {
      "needs_background": "light"
     },
     "output_type": "display_data"
    }
   ],
   "source": [
    "x = ['BR-MultNB','BR-GausNB','BR-SVC','CC-MultNB','LP-MultNB','BP-MLL-ini','BP-MLL-fin']\n",
    "y = [3.27,20.74,4.26,3.56,3.17,13.96,15.158]\n",
    "colors = itertools.cycle(['b', 'g', 'r', 'c', 'm', 'y', 'k'])\n",
    "plt.ylabel('Hamming-Loss')\n",
    "plt.xlabel('Model-details')\n",
    "plt.xticks(rotation=90)\n",
    "for i in range(len(y)):\n",
    "    plt.bar(x[i], y[i], color=next(colors))\n",
    "plt.show()"
   ]
  },
  {
   "cell_type": "code",
   "execution_count": 28,
   "id": "81a02b89",
   "metadata": {},
   "outputs": [
    {
     "data": {
      "image/png": "[encoded data removed]",
      "text/plain": [
       "<Figure size 432x288 with 1 Axes>"
      ]
     },
     "metadata": {
      "needs_background": "light"
     },
     "output_type": "display_data"
    }
   ],
   "source": [
    "x = ['BR-MultNB','BR-GausNB','BR-SVC','CC-MultNB','LP-MultNB','BP-MLL-ini','BP-MLL-fin']\n",
    "y = [1.92,1.422,0.46,1.5,1.47,0.36,0.35]\n",
    "colors = itertools.cycle(['b', 'g', 'r', 'c', 'm', 'y', 'k'])\n",
    "plt.ylabel('Log-Loss')\n",
    "plt.xlabel('Model-details')\n",
    "plt.xticks(rotation=90)\n",
    "for i in range(len(y)):\n",
    "    plt.bar(x[i], y[i], color=next(colors))\n",
    "plt.show()\n"
   ]
  },
  {
   "cell_type": "markdown",
   "id": "dc7d4c67",
   "metadata": {},
   "source": [
    "While showing among the best problem transformation method models, \n",
    "hamming-loss was considered (this is because for BP-MLL neural network we \n",
    "had to round the final results to get the hamming-loss because of the output being multivalued probabilities)\n",
    "But while chosing among the best Adaptation Algorithm model, log loss was preferred.\n",
    " "
   ]
  },
  {
   "cell_type": "code",
   "execution_count": null,
   "id": "9d44bef6",
   "metadata": {},
   "outputs": [],
   "source": []
  }
 ],
 "metadata": {
  "kernelspec": {
   "display_name": "Python 3",
   "language": "python",
   "name": "python3"
  },
  "language_info": {
   "codemirror_mode": {
    "name": "ipython",
    "version": 3
   },
   "file_extension": ".py",
   "mimetype": "text/x-python",
   "name": "python",
   "nbconvert_exporter": "python",
   "pygments_lexer": "ipython3",
   "version": "3.8.8"
  }
 },
 "nbformat": 4,
 "nbformat_minor": 5
}
